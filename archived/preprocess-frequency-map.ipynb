{
 "cells": [
  {
   "cell_type": "code",
   "execution_count": 1,
   "id": "29c96ef7",
   "metadata": {},
   "outputs": [],
   "source": [
    "from pathlib import Path\n",
    "import pandas as pd\n",
    "import xarray as xr\n",
    "# import zarr\n",
    "import shutil\n",
    "import psutil\n",
    "\n",
    "# import gtsa"
   ]
  },
  {
   "cell_type": "code",
   "execution_count": 2,
   "id": "11359ca4",
   "metadata": {},
   "outputs": [],
   "source": [
    "fixed_image_folder = '/storage/GOES/orthorectified/Fog2022_withtime/'"
   ]
  },
  {
   "cell_type": "code",
   "execution_count": 3,
   "id": "2c13a1ae",
   "metadata": {},
   "outputs": [
    {
     "name": "stdout",
     "output_type": "stream",
     "text": [
      "14G\t/storage/GOES/orthorectified/Fog2022_withtime/\n"
     ]
    }
   ],
   "source": [
    "! du -sh $fixed_image_folder"
   ]
  },
  {
   "attachments": {},
   "cell_type": "markdown",
   "id": "9aa86707",
   "metadata": {},
   "source": [
    "## watch the dask dashboard"
   ]
  },
  {
   "cell_type": "code",
   "execution_count": 4,
   "id": "4b45e524",
   "metadata": {},
   "outputs": [],
   "source": [
    "# Number of cores/CPUs in the machine this notebook is running on (the linux box)\n",
    "# We won't be using all the cores in the linux box (24) -- just 12 should be enough for us\n",
    "workers = psutil.cpu_count(logical=True) - 12\n",
    "\n",
    "ip_addres='http://j-lundquist-3.ce.washington.edu'\n",
    "\n",
    "port=':8787' # Have to forward/add port in VSCode to be able to open url in the next cell\n",
    "\n",
    "# Each CPU will run 2 threads -> 12 CPUs will run 24 threads in total\n",
    "threads=2"
   ]
  },
  {
   "cell_type": "code",
   "execution_count": 6,
   "id": "30545976",
   "metadata": {},
   "outputs": [
    {
     "name": "stderr",
     "output_type": "stream",
     "text": [
      "/home/ngoc54n/miniconda3/envs/goesenv/lib/python3.11/site-packages/distributed/node.py:182: UserWarning: Port 8787 is already in use.\n",
      "Perhaps you already have a cluster running?\n",
      "Hosting the HTTP server on port 40021 instead\n",
      "  warnings.warn(\n"
     ]
    },
    {
     "name": "stdout",
     "output_type": "stream",
     "text": [
      "\n",
      "Dask dashboard at: http://j-lundquist-3.ce.washington.edu:40021/status\n"
     ]
    }
   ],
   "source": [
    "from dask.distributed import Client, LocalCluster\n",
    "\n",
    "\"\"\"\n",
    "Starts a dask cluster. Can provide a custom IP or URL to view the progress dashboard. \n",
    "This may be necessary if working on a remote machine.\n",
    "\"\"\"\n",
    "cluster = LocalCluster(n_workers=workers,\n",
    "                        threads_per_worker=threads,\n",
    "                        dashboard_address=port)\n",
    "\n",
    "client = Client(cluster)\n",
    "\n",
    "port = str(cluster.dashboard_link.split(':')[-1])\n",
    "url = \":\".join([ip_addres,port])\n",
    "print('\\n'+'Dask dashboard at:',url)"
   ]
  },
  {
   "cell_type": "code",
   "execution_count": 6,
   "id": "a9621eca",
   "metadata": {},
   "outputs": [],
   "source": [
    "import glob\n",
    "import os"
   ]
  },
  {
   "cell_type": "code",
   "execution_count": 8,
   "id": "8dc09363",
   "metadata": {},
   "outputs": [
    {
     "name": "stdout",
     "output_type": "stream",
     "text": [
      "-rw-rw-r--. 1 elilouis elilouis 333K Jun 23 09:04 /storage/GOES/orthorectified/Fog2022_withtime/OR_ABI-L2-ACHAC-M4_G17_s20221481500220_e20221481505120_c20221481508078_o.nc\n"
     ]
    }
   ],
   "source": [
    "nc_files = sorted(glob.glob(os.path.join(fixed_image_folder, '*.nc'))) # Diff\n",
    "len(nc_files)\n",
    "! ls -lah {nc_files[0]}"
   ]
  },
  {
   "attachments": {},
   "cell_type": "markdown",
   "id": "8699a319",
   "metadata": {},
   "source": [
    "## stack the raster files (satellite images)"
   ]
  },
  {
   "cell_type": "code",
   "execution_count": null,
   "id": "c2699822",
   "metadata": {},
   "outputs": [],
   "source": [
    "ds = xr.open_mfdataset(nc_files, chunks={'time': 300})\n",
    "ds"
   ]
  },
  {
   "attachments": {},
   "cell_type": "markdown",
   "id": "bc4df7aa",
   "metadata": {},
   "source": [
    "## Create frequency map"
   ]
  },
  {
   "cell_type": "code",
   "execution_count": 17,
   "id": "f51da913",
   "metadata": {},
   "outputs": [
    {
     "data": {
      "text/html": [
       "<div><svg style=\"position: absolute; width: 0; height: 0; overflow: hidden\">\n",
       "<defs>\n",
       "<symbol id=\"icon-database\" viewBox=\"0 0 32 32\">\n",
       "<path d=\"M16 0c-8.837 0-16 2.239-16 5v4c0 2.761 7.163 5 16 5s16-2.239 16-5v-4c0-2.761-7.163-5-16-5z\"></path>\n",
       "<path d=\"M16 17c-8.837 0-16-2.239-16-5v6c0 2.761 7.163 5 16 5s16-2.239 16-5v-6c0 2.761-7.163 5-16 5z\"></path>\n",
       "<path d=\"M16 26c-8.837 0-16-2.239-16-5v6c0 2.761 7.163 5 16 5s16-2.239 16-5v-6c0 2.761-7.163 5-16 5z\"></path>\n",
       "</symbol>\n",
       "<symbol id=\"icon-file-text2\" viewBox=\"0 0 32 32\">\n",
       "<path d=\"M28.681 7.159c-0.694-0.947-1.662-2.053-2.724-3.116s-2.169-2.030-3.116-2.724c-1.612-1.182-2.393-1.319-2.841-1.319h-15.5c-1.378 0-2.5 1.121-2.5 2.5v27c0 1.378 1.122 2.5 2.5 2.5h23c1.378 0 2.5-1.122 2.5-2.5v-19.5c0-0.448-0.137-1.23-1.319-2.841zM24.543 5.457c0.959 0.959 1.712 1.825 2.268 2.543h-4.811v-4.811c0.718 0.556 1.584 1.309 2.543 2.268zM28 29.5c0 0.271-0.229 0.5-0.5 0.5h-23c-0.271 0-0.5-0.229-0.5-0.5v-27c0-0.271 0.229-0.5 0.5-0.5 0 0 15.499-0 15.5 0v7c0 0.552 0.448 1 1 1h7v19.5z\"></path>\n",
       "<path d=\"M23 26h-14c-0.552 0-1-0.448-1-1s0.448-1 1-1h14c0.552 0 1 0.448 1 1s-0.448 1-1 1z\"></path>\n",
       "<path d=\"M23 22h-14c-0.552 0-1-0.448-1-1s0.448-1 1-1h14c0.552 0 1 0.448 1 1s-0.448 1-1 1z\"></path>\n",
       "<path d=\"M23 18h-14c-0.552 0-1-0.448-1-1s0.448-1 1-1h14c0.552 0 1 0.448 1 1s-0.448 1-1 1z\"></path>\n",
       "</symbol>\n",
       "</defs>\n",
       "</svg>\n",
       "<style>/* CSS stylesheet for displaying xarray objects in jupyterlab.\n",
       " *\n",
       " */\n",
       "\n",
       ":root {\n",
       "  --xr-font-color0: var(--jp-content-font-color0, rgba(0, 0, 0, 1));\n",
       "  --xr-font-color2: var(--jp-content-font-color2, rgba(0, 0, 0, 0.54));\n",
       "  --xr-font-color3: var(--jp-content-font-color3, rgba(0, 0, 0, 0.38));\n",
       "  --xr-border-color: var(--jp-border-color2, #e0e0e0);\n",
       "  --xr-disabled-color: var(--jp-layout-color3, #bdbdbd);\n",
       "  --xr-background-color: var(--jp-layout-color0, white);\n",
       "  --xr-background-color-row-even: var(--jp-layout-color1, white);\n",
       "  --xr-background-color-row-odd: var(--jp-layout-color2, #eeeeee);\n",
       "}\n",
       "\n",
       "html[theme=dark],\n",
       "body[data-theme=dark],\n",
       "body.vscode-dark {\n",
       "  --xr-font-color0: rgba(255, 255, 255, 1);\n",
       "  --xr-font-color2: rgba(255, 255, 255, 0.54);\n",
       "  --xr-font-color3: rgba(255, 255, 255, 0.38);\n",
       "  --xr-border-color: #1F1F1F;\n",
       "  --xr-disabled-color: #515151;\n",
       "  --xr-background-color: #111111;\n",
       "  --xr-background-color-row-even: #111111;\n",
       "  --xr-background-color-row-odd: #313131;\n",
       "}\n",
       "\n",
       ".xr-wrap {\n",
       "  display: block !important;\n",
       "  min-width: 300px;\n",
       "  max-width: 700px;\n",
       "}\n",
       "\n",
       ".xr-text-repr-fallback {\n",
       "  /* fallback to plain text repr when CSS is not injected (untrusted notebook) */\n",
       "  display: none;\n",
       "}\n",
       "\n",
       ".xr-header {\n",
       "  padding-top: 6px;\n",
       "  padding-bottom: 6px;\n",
       "  margin-bottom: 4px;\n",
       "  border-bottom: solid 1px var(--xr-border-color);\n",
       "}\n",
       "\n",
       ".xr-header > div,\n",
       ".xr-header > ul {\n",
       "  display: inline;\n",
       "  margin-top: 0;\n",
       "  margin-bottom: 0;\n",
       "}\n",
       "\n",
       ".xr-obj-type,\n",
       ".xr-array-name {\n",
       "  margin-left: 2px;\n",
       "  margin-right: 10px;\n",
       "}\n",
       "\n",
       ".xr-obj-type {\n",
       "  color: var(--xr-font-color2);\n",
       "}\n",
       "\n",
       ".xr-sections {\n",
       "  padding-left: 0 !important;\n",
       "  display: grid;\n",
       "  grid-template-columns: 150px auto auto 1fr 20px 20px;\n",
       "}\n",
       "\n",
       ".xr-section-item {\n",
       "  display: contents;\n",
       "}\n",
       "\n",
       ".xr-section-item input {\n",
       "  display: none;\n",
       "}\n",
       "\n",
       ".xr-section-item input + label {\n",
       "  color: var(--xr-disabled-color);\n",
       "}\n",
       "\n",
       ".xr-section-item input:enabled + label {\n",
       "  cursor: pointer;\n",
       "  color: var(--xr-font-color2);\n",
       "}\n",
       "\n",
       ".xr-section-item input:enabled + label:hover {\n",
       "  color: var(--xr-font-color0);\n",
       "}\n",
       "\n",
       ".xr-section-summary {\n",
       "  grid-column: 1;\n",
       "  color: var(--xr-font-color2);\n",
       "  font-weight: 500;\n",
       "}\n",
       "\n",
       ".xr-section-summary > span {\n",
       "  display: inline-block;\n",
       "  padding-left: 0.5em;\n",
       "}\n",
       "\n",
       ".xr-section-summary-in:disabled + label {\n",
       "  color: var(--xr-font-color2);\n",
       "}\n",
       "\n",
       ".xr-section-summary-in + label:before {\n",
       "  display: inline-block;\n",
       "  content: '►';\n",
       "  font-size: 11px;\n",
       "  width: 15px;\n",
       "  text-align: center;\n",
       "}\n",
       "\n",
       ".xr-section-summary-in:disabled + label:before {\n",
       "  color: var(--xr-disabled-color);\n",
       "}\n",
       "\n",
       ".xr-section-summary-in:checked + label:before {\n",
       "  content: '▼';\n",
       "}\n",
       "\n",
       ".xr-section-summary-in:checked + label > span {\n",
       "  display: none;\n",
       "}\n",
       "\n",
       ".xr-section-summary,\n",
       ".xr-section-inline-details {\n",
       "  padding-top: 4px;\n",
       "  padding-bottom: 4px;\n",
       "}\n",
       "\n",
       ".xr-section-inline-details {\n",
       "  grid-column: 2 / -1;\n",
       "}\n",
       "\n",
       ".xr-section-details {\n",
       "  display: none;\n",
       "  grid-column: 1 / -1;\n",
       "  margin-bottom: 5px;\n",
       "}\n",
       "\n",
       ".xr-section-summary-in:checked ~ .xr-section-details {\n",
       "  display: contents;\n",
       "}\n",
       "\n",
       ".xr-array-wrap {\n",
       "  grid-column: 1 / -1;\n",
       "  display: grid;\n",
       "  grid-template-columns: 20px auto;\n",
       "}\n",
       "\n",
       ".xr-array-wrap > label {\n",
       "  grid-column: 1;\n",
       "  vertical-align: top;\n",
       "}\n",
       "\n",
       ".xr-preview {\n",
       "  color: var(--xr-font-color3);\n",
       "}\n",
       "\n",
       ".xr-array-preview,\n",
       ".xr-array-data {\n",
       "  padding: 0 5px !important;\n",
       "  grid-column: 2;\n",
       "}\n",
       "\n",
       ".xr-array-data,\n",
       ".xr-array-in:checked ~ .xr-array-preview {\n",
       "  display: none;\n",
       "}\n",
       "\n",
       ".xr-array-in:checked ~ .xr-array-data,\n",
       ".xr-array-preview {\n",
       "  display: inline-block;\n",
       "}\n",
       "\n",
       ".xr-dim-list {\n",
       "  display: inline-block !important;\n",
       "  list-style: none;\n",
       "  padding: 0 !important;\n",
       "  margin: 0;\n",
       "}\n",
       "\n",
       ".xr-dim-list li {\n",
       "  display: inline-block;\n",
       "  padding: 0;\n",
       "  margin: 0;\n",
       "}\n",
       "\n",
       ".xr-dim-list:before {\n",
       "  content: '(';\n",
       "}\n",
       "\n",
       ".xr-dim-list:after {\n",
       "  content: ')';\n",
       "}\n",
       "\n",
       ".xr-dim-list li:not(:last-child):after {\n",
       "  content: ',';\n",
       "  padding-right: 5px;\n",
       "}\n",
       "\n",
       ".xr-has-index {\n",
       "  font-weight: bold;\n",
       "}\n",
       "\n",
       ".xr-var-list,\n",
       ".xr-var-item {\n",
       "  display: contents;\n",
       "}\n",
       "\n",
       ".xr-var-item > div,\n",
       ".xr-var-item label,\n",
       ".xr-var-item > .xr-var-name span {\n",
       "  background-color: var(--xr-background-color-row-even);\n",
       "  margin-bottom: 0;\n",
       "}\n",
       "\n",
       ".xr-var-item > .xr-var-name:hover span {\n",
       "  padding-right: 5px;\n",
       "}\n",
       "\n",
       ".xr-var-list > li:nth-child(odd) > div,\n",
       ".xr-var-list > li:nth-child(odd) > label,\n",
       ".xr-var-list > li:nth-child(odd) > .xr-var-name span {\n",
       "  background-color: var(--xr-background-color-row-odd);\n",
       "}\n",
       "\n",
       ".xr-var-name {\n",
       "  grid-column: 1;\n",
       "}\n",
       "\n",
       ".xr-var-dims {\n",
       "  grid-column: 2;\n",
       "}\n",
       "\n",
       ".xr-var-dtype {\n",
       "  grid-column: 3;\n",
       "  text-align: right;\n",
       "  color: var(--xr-font-color2);\n",
       "}\n",
       "\n",
       ".xr-var-preview {\n",
       "  grid-column: 4;\n",
       "}\n",
       "\n",
       ".xr-index-preview {\n",
       "  grid-column: 2 / 5;\n",
       "  color: var(--xr-font-color2);\n",
       "}\n",
       "\n",
       ".xr-var-name,\n",
       ".xr-var-dims,\n",
       ".xr-var-dtype,\n",
       ".xr-preview,\n",
       ".xr-attrs dt {\n",
       "  white-space: nowrap;\n",
       "  overflow: hidden;\n",
       "  text-overflow: ellipsis;\n",
       "  padding-right: 10px;\n",
       "}\n",
       "\n",
       ".xr-var-name:hover,\n",
       ".xr-var-dims:hover,\n",
       ".xr-var-dtype:hover,\n",
       ".xr-attrs dt:hover {\n",
       "  overflow: visible;\n",
       "  width: auto;\n",
       "  z-index: 1;\n",
       "}\n",
       "\n",
       ".xr-var-attrs,\n",
       ".xr-var-data,\n",
       ".xr-index-data {\n",
       "  display: none;\n",
       "  background-color: var(--xr-background-color) !important;\n",
       "  padding-bottom: 5px !important;\n",
       "}\n",
       "\n",
       ".xr-var-attrs-in:checked ~ .xr-var-attrs,\n",
       ".xr-var-data-in:checked ~ .xr-var-data,\n",
       ".xr-index-data-in:checked ~ .xr-index-data {\n",
       "  display: block;\n",
       "}\n",
       "\n",
       ".xr-var-data > table {\n",
       "  float: right;\n",
       "}\n",
       "\n",
       ".xr-var-name span,\n",
       ".xr-var-data,\n",
       ".xr-index-name div,\n",
       ".xr-index-data,\n",
       ".xr-attrs {\n",
       "  padding-left: 25px !important;\n",
       "}\n",
       "\n",
       ".xr-attrs,\n",
       ".xr-var-attrs,\n",
       ".xr-var-data,\n",
       ".xr-index-data {\n",
       "  grid-column: 1 / -1;\n",
       "}\n",
       "\n",
       "dl.xr-attrs {\n",
       "  padding: 0;\n",
       "  margin: 0;\n",
       "  display: grid;\n",
       "  grid-template-columns: 125px auto;\n",
       "}\n",
       "\n",
       ".xr-attrs dt,\n",
       ".xr-attrs dd {\n",
       "  padding: 0;\n",
       "  margin: 0;\n",
       "  float: left;\n",
       "  padding-right: 10px;\n",
       "  width: auto;\n",
       "}\n",
       "\n",
       ".xr-attrs dt {\n",
       "  font-weight: normal;\n",
       "  grid-column: 1;\n",
       "}\n",
       "\n",
       ".xr-attrs dt:hover span {\n",
       "  display: inline-block;\n",
       "  background: var(--xr-background-color);\n",
       "  padding-right: 10px;\n",
       "}\n",
       "\n",
       ".xr-attrs dd {\n",
       "  grid-column: 2;\n",
       "  white-space: pre-wrap;\n",
       "  word-break: break-all;\n",
       "}\n",
       "\n",
       ".xr-icon-database,\n",
       ".xr-icon-file-text2,\n",
       ".xr-no-icon {\n",
       "  display: inline-block;\n",
       "  vertical-align: middle;\n",
       "  width: 1em;\n",
       "  height: 1.5em !important;\n",
       "  stroke-width: 0;\n",
       "  stroke: currentColor;\n",
       "  fill: currentColor;\n",
       "}\n",
       "</style><pre class='xr-text-repr-fallback'>&lt;xarray.DataArray &#x27;fog_presence&#x27; (latitude: 284, longitude: 284)&gt;\n",
       "dask.array&lt;truediv, shape=(284, 284), dtype=float64, chunksize=(284, 284), chunktype=numpy.ndarray&gt;\n",
       "Coordinates:\n",
       "  * longitude  (longitude) float64 -125.0 -125.0 -125.0 ... -122.0 -122.0 -122.0\n",
       "  * latitude   (latitude) float64 49.0 48.99 48.98 48.97 ... 46.03 46.02 46.01</pre><div class='xr-wrap' style='display:none'><div class='xr-header'><div class='xr-obj-type'>xarray.DataArray</div><div class='xr-array-name'>'fog_presence'</div><ul class='xr-dim-list'><li><span class='xr-has-index'>latitude</span>: 284</li><li><span class='xr-has-index'>longitude</span>: 284</li></ul></div><ul class='xr-sections'><li class='xr-section-item'><div class='xr-array-wrap'><input id='section-49d7a921-7543-425d-9624-d917782a6f21' class='xr-array-in' type='checkbox' checked><label for='section-49d7a921-7543-425d-9624-d917782a6f21' title='Show/hide data repr'><svg class='icon xr-icon-database'><use xlink:href='#icon-database'></use></svg></label><div class='xr-array-preview xr-preview'><span>dask.array&lt;chunksize=(284, 284), meta=np.ndarray&gt;</span></div><div class='xr-array-data'><table>\n",
       "    <tr>\n",
       "        <td>\n",
       "            <table style=\"border-collapse: collapse;\">\n",
       "                <thead>\n",
       "                    <tr>\n",
       "                        <td> </td>\n",
       "                        <th> Array </th>\n",
       "                        <th> Chunk </th>\n",
       "                    </tr>\n",
       "                </thead>\n",
       "                <tbody>\n",
       "                    \n",
       "                    <tr>\n",
       "                        <th> Bytes </th>\n",
       "                        <td> 630.12 kiB </td>\n",
       "                        <td> 630.12 kiB </td>\n",
       "                    </tr>\n",
       "                    \n",
       "                    <tr>\n",
       "                        <th> Shape </th>\n",
       "                        <td> (284, 284) </td>\n",
       "                        <td> (284, 284) </td>\n",
       "                    </tr>\n",
       "                    <tr>\n",
       "                        <th> Dask graph </th>\n",
       "                        <td colspan=\"2\"> 1 chunks in 81582 graph layers </td>\n",
       "                    </tr>\n",
       "                    <tr>\n",
       "                        <th> Data type </th>\n",
       "                        <td colspan=\"2\"> float64 numpy.ndarray </td>\n",
       "                    </tr>\n",
       "                </tbody>\n",
       "            </table>\n",
       "        </td>\n",
       "        <td>\n",
       "        <svg width=\"170\" height=\"170\" style=\"stroke:rgb(0,0,0);stroke-width:1\" >\n",
       "\n",
       "  <!-- Horizontal lines -->\n",
       "  <line x1=\"0\" y1=\"0\" x2=\"120\" y2=\"0\" style=\"stroke-width:2\" />\n",
       "  <line x1=\"0\" y1=\"120\" x2=\"120\" y2=\"120\" style=\"stroke-width:2\" />\n",
       "\n",
       "  <!-- Vertical lines -->\n",
       "  <line x1=\"0\" y1=\"0\" x2=\"0\" y2=\"120\" style=\"stroke-width:2\" />\n",
       "  <line x1=\"120\" y1=\"0\" x2=\"120\" y2=\"120\" style=\"stroke-width:2\" />\n",
       "\n",
       "  <!-- Colored Rectangle -->\n",
       "  <polygon points=\"0.0,0.0 120.0,0.0 120.0,120.0 0.0,120.0\" style=\"fill:#ECB172A0;stroke-width:0\"/>\n",
       "\n",
       "  <!-- Text -->\n",
       "  <text x=\"60.000000\" y=\"140.000000\" font-size=\"1.0rem\" font-weight=\"100\" text-anchor=\"middle\" >284</text>\n",
       "  <text x=\"140.000000\" y=\"60.000000\" font-size=\"1.0rem\" font-weight=\"100\" text-anchor=\"middle\" transform=\"rotate(-90,140.000000,60.000000)\">284</text>\n",
       "</svg>\n",
       "        </td>\n",
       "    </tr>\n",
       "</table></div></div></li><li class='xr-section-item'><input id='section-5dfdee5e-bb0d-48ec-a9d9-a4f19dbe65a9' class='xr-section-summary-in' type='checkbox'  checked><label for='section-5dfdee5e-bb0d-48ec-a9d9-a4f19dbe65a9' class='xr-section-summary' >Coordinates: <span>(2)</span></label><div class='xr-section-inline-details'></div><div class='xr-section-details'><ul class='xr-var-list'><li class='xr-var-item'><div class='xr-var-name'><span class='xr-has-index'>longitude</span></div><div class='xr-var-dims'>(longitude)</div><div class='xr-var-dtype'>float64</div><div class='xr-var-preview xr-preview'>-125.0 -125.0 ... -122.0 -122.0</div><input id='attrs-ec88ad2f-06e4-4378-bdd4-054a24c6d66a' class='xr-var-attrs-in' type='checkbox' disabled><label for='attrs-ec88ad2f-06e4-4378-bdd4-054a24c6d66a' title='Show/Hide attributes'><svg class='icon xr-icon-file-text2'><use xlink:href='#icon-file-text2'></use></svg></label><input id='data-bee76bbb-4696-4181-a7df-cdf7e1b508e7' class='xr-var-data-in' type='checkbox'><label for='data-bee76bbb-4696-4181-a7df-cdf7e1b508e7' title='Show/Hide data repr'><svg class='icon xr-icon-database'><use xlink:href='#icon-database'></use></svg></label><div class='xr-var-attrs'><dl class='xr-attrs'></dl></div><div class='xr-var-data'><pre>array([-125.001936, -124.991363, -124.980789, ..., -122.030782, -122.020209,\n",
       "       -122.009635])</pre></div></li><li class='xr-var-item'><div class='xr-var-name'><span class='xr-has-index'>latitude</span></div><div class='xr-var-dims'>(latitude)</div><div class='xr-var-dtype'>float64</div><div class='xr-var-preview xr-preview'>49.0 48.99 48.98 ... 46.02 46.01</div><input id='attrs-bc6ed1fa-f537-4e43-892e-e7a55475415e' class='xr-var-attrs-in' type='checkbox' disabled><label for='attrs-bc6ed1fa-f537-4e43-892e-e7a55475415e' title='Show/Hide attributes'><svg class='icon xr-icon-file-text2'><use xlink:href='#icon-file-text2'></use></svg></label><input id='data-c45cac7e-ac28-4f82-92a9-d4749029982a' class='xr-var-data-in' type='checkbox'><label for='data-c45cac7e-ac28-4f82-92a9-d4749029982a' title='Show/Hide data repr'><svg class='icon xr-icon-database'><use xlink:href='#icon-database'></use></svg></label><div class='xr-var-attrs'><dl class='xr-attrs'></dl></div><div class='xr-var-data'><pre>array([49.004789, 48.994216, 48.983642, ..., 46.033636, 46.023062, 46.012489])</pre></div></li></ul></div></li><li class='xr-section-item'><input id='section-ddd38612-b971-4a04-a5b6-4a930aa9b925' class='xr-section-summary-in' type='checkbox'  ><label for='section-ddd38612-b971-4a04-a5b6-4a930aa9b925' class='xr-section-summary' >Indexes: <span>(2)</span></label><div class='xr-section-inline-details'></div><div class='xr-section-details'><ul class='xr-var-list'><li class='xr-var-item'><div class='xr-index-name'><div>longitude</div></div><div class='xr-index-preview'>PandasIndex</div><div></div><input id='index-06963584-5c3e-4817-ac72-fa7ee21eabb2' class='xr-index-data-in' type='checkbox'/><label for='index-06963584-5c3e-4817-ac72-fa7ee21eabb2' title='Show/Hide index repr'><svg class='icon xr-icon-database'><use xlink:href='#icon-database'></use></svg></label><div class='xr-index-data'><pre>PandasIndex(Index([-125.00193616693525,  -124.9913626662464, -124.98078916555754,\n",
       "       -124.97021566486869, -124.95964216417984, -124.94906866349099,\n",
       "       -124.93849516280214, -124.92792166211328, -124.91734816142443,\n",
       "       -124.90677466073558,\n",
       "       ...\n",
       "       -122.10479697818964, -122.09422347750079, -122.08364997681194,\n",
       "       -122.07307647612308, -122.06250297543423, -122.05192947474538,\n",
       "       -122.04135597405653, -122.03078247336768, -122.02020897267882,\n",
       "       -122.00963547198997],\n",
       "      dtype=&#x27;float64&#x27;, name=&#x27;longitude&#x27;, length=284))</pre></div></li><li class='xr-var-item'><div class='xr-index-name'><div>latitude</div></div><div class='xr-index-preview'>PandasIndex</div><div></div><input id='index-707591f1-1bc9-4e79-8325-91a9fe12d833' class='xr-index-data-in' type='checkbox'/><label for='index-707591f1-1bc9-4e79-8325-91a9fe12d833' title='Show/Hide index repr'><svg class='icon xr-icon-database'><use xlink:href='#icon-database'></use></svg></label><div class='xr-index-data'><pre>PandasIndex(Index([ 49.00478930942533,  48.99421580873647,  48.98364230804762,\n",
       "       48.973068807358764, 48.962495306669915, 48.951921805981065,\n",
       "        48.94134830529221,  48.93077480460336,   48.9202013039145,\n",
       "        48.90962780322565,\n",
       "       ...\n",
       "       46.107650120679715, 46.097076619990865,  46.08650311930201,\n",
       "        46.07592961861316,   46.0653561179243,  46.05478261723545,\n",
       "         46.0442091165466,  46.03363561585775,   46.0230621151689,\n",
       "        46.01248861448004],\n",
       "      dtype=&#x27;float64&#x27;, name=&#x27;latitude&#x27;, length=284))</pre></div></li></ul></div></li><li class='xr-section-item'><input id='section-7f9bb0f3-b420-442b-92a1-d95574ea9939' class='xr-section-summary-in' type='checkbox' disabled ><label for='section-7f9bb0f3-b420-442b-92a1-d95574ea9939' class='xr-section-summary'  title='Expand/collapse section'>Attributes: <span>(0)</span></label><div class='xr-section-inline-details'></div><div class='xr-section-details'><dl class='xr-attrs'></dl></div></li></ul></div></div>"
      ],
      "text/plain": [
       "<xarray.DataArray 'fog_presence' (latitude: 284, longitude: 284)>\n",
       "dask.array<truediv, shape=(284, 284), dtype=float64, chunksize=(284, 284), chunktype=numpy.ndarray>\n",
       "Coordinates:\n",
       "  * longitude  (longitude) float64 -125.0 -125.0 -125.0 ... -122.0 -122.0 -122.0\n",
       "  * latitude   (latitude) float64 49.0 48.99 48.98 48.97 ... 46.03 46.02 46.01"
      ]
     },
     "execution_count": 17,
     "metadata": {},
     "output_type": "execute_result"
    }
   ],
   "source": [
    "ds['fog_presence'] = ds['HT'] <= 400\n",
    "frequency_array = ds['fog_presence'].sum(dim = 'time')/len(ds['time'])\n",
    "frequency_array"
   ]
  },
  {
   "cell_type": "code",
   "execution_count": null,
   "id": "6e813880",
   "metadata": {},
   "outputs": [],
   "source": [
    "delayed_frequency_array = frequency_array.to_netcdf('frequency_map.nc', compute = False)"
   ]
  },
  {
   "cell_type": "code",
   "execution_count": null,
   "id": "9037f2de",
   "metadata": {},
   "outputs": [
    {
     "name": "stderr",
     "output_type": "stream",
     "text": [
      "/home/ngoc54n/miniconda3/envs/goesenv/lib/python3.11/site-packages/distributed/client.py:3125: UserWarning: Sending large graph of size 31.76 MiB.\n",
      "This may cause some slowdown.\n",
      "Consider scattering data ahead of time and using futures.\n",
      "  warnings.warn(\n"
     ]
    }
   ],
   "source": [
    "from dask.diagnostics import ProgressBar\n",
    "\n",
    "\n",
    "with ProgressBar():\n",
    "\tresults = delayed_frequency_array.compute() # the .nc file will only be written out after we run this"
   ]
  },
  {
   "attachments": {},
   "cell_type": "markdown",
   "id": "da189206",
   "metadata": {},
   "source": [
    "## Create cloud height time series for our field locations"
   ]
  },
  {
   "cell_type": "code",
   "execution_count": 25,
   "id": "b438e1b5",
   "metadata": {},
   "outputs": [],
   "source": [
    "locations = ['doug', 'scott', 'megan', 'george&peggy', 'laura', 'robert', 'lesley', 'gary&april', 'kim', 'falsebay', 'mosquitoforest', 'cantileverway', 'uwforest']\n",
    "latlons = [(48.509018,-123.035467),\n",
    "(48.557673,\t-123.082804),\n",
    "(48.530415,\t-123.1314399),\n",
    "(48.464462,\t-122.959918),\n",
    "(48.529409,\t-123.088861),\n",
    "(48.6195902, -123.1214837),\n",
    "(48.568814,\t-123.16452),\n",
    "(48.487279,\t-123.062032),\n",
    "(48.482816,\t-123.062909),\n",
    "(48.490914,\t-123.069227),\n",
    "(48.553306,\t-123.0118236),\n",
    "(48.546348,\t-123.007626),\n",
    "(48.5546524, -123.0094096)]\n",
    "\n",
    "delayed_writes = []\n",
    "\n",
    "for i in range(len(locations)):\n",
    "    location_timeseries = ds.sel(longitude = latlons[i][0], latitude = latlons[i][1], method = 'nearest')['HT']\n",
    "    delayed_write = location_timeseries.to_netcdf(f'{locations[i]}_timeseries.nc', compute = False)\n",
    "    delayed_writes.append(delayed_write)\n",
    "\n"
   ]
  },
  {
   "cell_type": "code",
   "execution_count": 27,
   "id": "5fef418c",
   "metadata": {},
   "outputs": [
    {
     "name": "stderr",
     "output_type": "stream",
     "text": [
      "/home/ngoc54n/miniconda3/envs/goesenv/lib/python3.11/site-packages/distributed/client.py:3125: UserWarning: Sending large graph of size 32.44 MiB.\n",
      "This may cause some slowdown.\n",
      "Consider scattering data ahead of time and using futures.\n",
      "  warnings.warn(\n"
     ]
    }
   ],
   "source": [
    "from dask.diagnostics import ProgressBar\n",
    "with ProgressBar():\n",
    "    for write in delayed_writes:\n",
    "        write.compute()"
   ]
  },
  {
   "attachments": {},
   "cell_type": "markdown",
   "id": "5b400f1e",
   "metadata": {},
   "source": [
    "## Dashboard might show inefficient processing patterns\n",
    "If not - memory usage is efficient - all workers are always busy - then no need to proceed with creating a zarr stack"
   ]
  },
  {
   "cell_type": "code",
   "execution_count": null,
   "id": "b5da88b8",
   "metadata": {},
   "outputs": [],
   "source": [
    "%%time\n",
    "nmad = gtsa.temporal.xr_dask_nmad(ds,\n",
    "                                  variable_name = 'HT')"
   ]
  },
  {
   "cell_type": "code",
   "execution_count": null,
   "id": "58d91db1",
   "metadata": {},
   "outputs": [],
   "source": [
    "ds['HT'].sel({'longitude': -123.5,\n",
    "              'latitude': 47.}, \n",
    "             method=\"nearest\").plot()"
   ]
  },
  {
   "cell_type": "code",
   "execution_count": null,
   "id": "420c1314",
   "metadata": {},
   "outputs": [],
   "source": [
    "time_data_array = ds['time']"
   ]
  },
  {
   "attachments": {},
   "cell_type": "markdown",
   "id": "7b9569c9",
   "metadata": {},
   "source": [
    "## Current chunk shape"
   ]
  },
  {
   "cell_type": "code",
   "execution_count": null,
   "id": "f6ae5a1f",
   "metadata": {},
   "outputs": [],
   "source": [
    "ds['HT']"
   ]
  },
  {
   "attachments": {},
   "cell_type": "markdown",
   "id": "305e968c",
   "metadata": {},
   "source": [
    "## Rechunk in to 1e8 byte sized chunks"
   ]
  },
  {
   "cell_type": "code",
   "execution_count": null,
   "id": "0c70bb7a",
   "metadata": {},
   "outputs": [],
   "source": [
    "ds['HT'].data = ds['HT'].data.rechunk({0:'auto', 1:'auto', 2:'auto'},\n",
    "                                      block_size_limit=1e8,\n",
    "                                      balance=True)"
   ]
  },
  {
   "cell_type": "code",
   "execution_count": null,
   "id": "e1357d1f",
   "metadata": {},
   "outputs": [],
   "source": [
    "ds['HT']"
   ]
  },
  {
   "attachments": {},
   "cell_type": "markdown",
   "id": "916a2630",
   "metadata": {},
   "source": [
    "## Create a temporary zarr file and write these chunks to disk"
   ]
  },
  {
   "cell_type": "code",
   "execution_count": null,
   "id": "49abd004",
   "metadata": {},
   "outputs": [],
   "source": [
    "zarr_stack_tmp = 'tmp_stack.zarr'\n",
    "shutil.rmtree(zarr_stack_tmp, ignore_errors=True)"
   ]
  },
  {
   "cell_type": "code",
   "execution_count": null,
   "id": "1d776281",
   "metadata": {},
   "outputs": [],
   "source": [
    "ds.to_zarr('tmp_stack.zarr')"
   ]
  },
  {
   "cell_type": "code",
   "execution_count": null,
   "id": "51e4c11d",
   "metadata": {},
   "outputs": [],
   "source": [
    "source_group = zarr.open(zarr_stack_tmp)\n",
    "source_array = source_group['HT']\n",
    "print(source_group.tree())\n",
    "print(source_array.info)\n",
    "del source_group\n",
    "del source_array"
   ]
  },
  {
   "attachments": {},
   "cell_type": "markdown",
   "id": "7436a756",
   "metadata": {},
   "source": [
    "## rechunk along time dimension and write to disk"
   ]
  },
  {
   "cell_type": "code",
   "execution_count": null,
   "id": "cb29d443",
   "metadata": {},
   "outputs": [],
   "source": [
    "zarr_stack_fn = 'stack.zarr'\n",
    "shutil.rmtree(zarr_stack_fn, ignore_errors=True)"
   ]
  },
  {
   "cell_type": "code",
   "execution_count": null,
   "id": "2d060e62",
   "metadata": {},
   "outputs": [],
   "source": [
    "arr = ds['HT'].data.rechunk({0:-1, 1:'auto', 2:'auto'}, \n",
    "                                            block_size_limit=1e8, \n",
    "                                            balance=True)\n",
    "t,y,x = arr.chunks[0][0], arr.chunks[1][0], arr.chunks[2][0]\n",
    "ds = xr.open_dataset(zarr_stack_tmp,\n",
    "                     chunks={'time': t, 'latitude': y, 'longitude':x},engine='zarr')\n",
    "\n",
    "ds['HT'].encoding = {'chunks': (t, y, x)}\n",
    "\n",
    "ds.to_zarr(zarr_stack_fn)"
   ]
  },
  {
   "cell_type": "code",
   "execution_count": null,
   "id": "ab8b9633",
   "metadata": {},
   "outputs": [],
   "source": [
    "source_group = zarr.open(zarr_stack_fn)\n",
    "source_array = source_group['HT']\n",
    "print(source_group.tree())\n",
    "print(source_array.info)\n",
    "del source_group\n",
    "del source_array"
   ]
  },
  {
   "cell_type": "code",
   "execution_count": null,
   "id": "c1b22459",
   "metadata": {},
   "outputs": [],
   "source": [
    "ds['HT']"
   ]
  },
  {
   "attachments": {},
   "cell_type": "markdown",
   "id": "3bddaddf",
   "metadata": {},
   "source": [
    "## open and determine optimal chunk size for processing"
   ]
  },
  {
   "cell_type": "code",
   "execution_count": null,
   "id": "e021290b",
   "metadata": {},
   "outputs": [],
   "source": [
    "tc,yc,xc  = gtsa.io.determine_optimal_chuck_size(ds,\n",
    "                                                 variable_name = 'HT',\n",
    "                                                 x_dim = 'longitude',\n",
    "                                                 y_dim = 'latitude',\n",
    "                                                 print_info = True)\n",
    "ds = xr.open_dataset(zarr_stack_fn,\n",
    "                     chunks={'time': tc, 'latitude': yc, 'longitude':xc},\n",
    "                     engine='zarr')"
   ]
  },
  {
   "attachments": {},
   "cell_type": "markdown",
   "id": "1ab9c3a1",
   "metadata": {},
   "source": [
    "## check the task graph\n",
    "Should look better now"
   ]
  },
  {
   "cell_type": "code",
   "execution_count": null,
   "id": "f4371921",
   "metadata": {},
   "outputs": [],
   "source": [
    "%%time\n",
    "nmad = gtsa.temporal.xr_dask_nmad(ds,\n",
    "                          variable_name = 'HT')"
   ]
  },
  {
   "cell_type": "code",
   "execution_count": null,
   "id": "543cc7cd",
   "metadata": {},
   "outputs": [],
   "source": [
    "nmad.plot()"
   ]
  },
  {
   "attachments": {},
   "cell_type": "markdown",
   "id": "52a2b41c",
   "metadata": {},
   "source": [
    "## Select a time series at a point"
   ]
  },
  {
   "cell_type": "code",
   "execution_count": null,
   "id": "e9e21452",
   "metadata": {},
   "outputs": [],
   "source": [
    "## something goes weird with the time array encoding so we can just reset it to the original array \n",
    "## maybe related to something like this https://github.com/pydata/xarray/issues/3942\n",
    "ds['time'] = time_data_array"
   ]
  },
  {
   "cell_type": "code",
   "execution_count": null,
   "id": "3c995aca",
   "metadata": {},
   "outputs": [],
   "source": [
    "ds['HT'].sel({'longitude': -123.5,\n",
    "              'latitude': 47.}, \n",
    "             method=\"nearest\").plot()"
   ]
  },
  {
   "cell_type": "code",
   "execution_count": null,
   "id": "68ffa64e",
   "metadata": {},
   "outputs": [],
   "source": [
    "## parsing dates from file names... not clear what the dates really are ... \n",
    "## also doesn't seem to be necessary since nc files have time stamps in the\n",
    "\n",
    "# nc_files = [x.as_posix() for x in nc_files]\n",
    "# date_strings = gtsa.io.parse_timestamps(nc_files,date_string_pattern='_s.............._e')\n",
    "# date_strings = [x[2:-2] for x in date_strings]\n",
    "# years = [x[:4] for x in date_strings]\n",
    "# days = [x[4:6] for x in date_strings]\n",
    "# months = [x[6] for x in date_strings]\n",
    "# hours = [x[7:-3] for x in date_strings]\n",
    "# minutes = [x[-3:-1] for x in date_strings]\n",
    "# seconds = [x[-1] for x in date_strings]\n",
    "\n",
    "# date_strings = []\n",
    "# for i,v in enumerate(nc_files):\n",
    "#     date_strings.append('-'.join([years[i],months[i],days[i]]) + ' ' + ':'.join([hours[i], minutes[i], seconds[i]]))\n",
    "# date_times = [pd.to_datetime(x) for x in date_strings] "
   ]
  }
 ],
 "metadata": {
  "kernelspec": {
   "display_name": "gtsa",
   "language": "python",
   "name": "python3"
  },
  "language_info": {
   "codemirror_mode": {
    "name": "ipython",
    "version": 3
   },
   "file_extension": ".py",
   "mimetype": "text/x-python",
   "name": "python",
   "nbconvert_exporter": "python",
   "pygments_lexer": "ipython3",
   "version": "3.11.4"
  }
 },
 "nbformat": 4,
 "nbformat_minor": 5
}
