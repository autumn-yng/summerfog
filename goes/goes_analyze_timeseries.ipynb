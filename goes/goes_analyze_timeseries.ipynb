{
 "cells": [
  {
   "cell_type": "code",
   "execution_count": 1,
   "metadata": {},
   "outputs": [],
   "source": [
    "import xarray as xr\n",
    "\n",
    "import glob\n",
    "import os\n",
    "import datetime as dt\n",
    "\n",
    "import matplotlib.pyplot as plt\n",
    "import pandas as pd\n",
    "import numpy as np\n",
    "import geopandas as gpd"
   ]
  },
  {
   "cell_type": "code",
   "execution_count": 2,
   "metadata": {},
   "outputs": [
    {
     "name": "stderr",
     "output_type": "stream",
     "text": [
      "/home/ngoc54n/miniconda3/envs/goesenv/lib/python3.11/site-packages/xarray/core/dataset.py:247: UserWarning: The specified Dask chunks separate the stored chunks along dimension \"latitude\" starting at index 50. This could degrade performance. Instead, consider rechunking after loading.\n",
      "  warnings.warn(\n",
      "/home/ngoc54n/miniconda3/envs/goesenv/lib/python3.11/site-packages/xarray/core/dataset.py:247: UserWarning: The specified Dask chunks separate the stored chunks along dimension \"longitude\" starting at index 50. This could degrade performance. Instead, consider rechunking after loading.\n",
      "  warnings.warn(\n"
     ]
    }
   ],
   "source": [
    "zarr_path = '/storage/GOES/orthorectified/Fog2022_withtime.zarr'\n",
    "ds = xr.open_dataset(\n",
    "    zarr_path,\n",
    "    chunks={'time': 40785, 'latitude': 50, 'longitude': 50},\n",
    "    engine='zarr'\n",
    ")\n",
    "# When we pass in a chunks argument, the dataset opened will be filled with Dask arrays"
   ]
  },
  {
   "cell_type": "markdown",
   "metadata": {},
   "source": [
    "## Whidbey island"
   ]
  },
  {
   "cell_type": "code",
   "execution_count": 4,
   "metadata": {},
   "outputs": [],
   "source": [
    "whidbey = (48.350,-122.650)\n",
    "whidbey_timeseries = ds['Height'].sel(latitude = whidbey[0], longitude = whidbey[1], method='nearest')"
   ]
  },
  {
   "cell_type": "code",
   "execution_count": 13,
   "metadata": {},
   "outputs": [
    {
     "data": {
      "text/plain": [
       "0.1061174451391443"
      ]
     },
     "execution_count": 13,
     "metadata": {},
     "output_type": "execute_result"
    }
   ],
   "source": [
    "clear = whidbey_timeseries.isnull().sum().values\n",
    "clear_freq = clear/whidbey_timeseries['time'].size\n",
    "clear_freq"
   ]
  },
  {
   "cell_type": "code",
   "execution_count": 12,
   "metadata": {},
   "outputs": [
    {
     "data": {
      "text/plain": [
       "0.3407134976094152"
      ]
     },
     "execution_count": 12,
     "metadata": {},
     "output_type": "execute_result"
    }
   ],
   "source": [
    "under_2000 = (whidbey_timeseries < 2000).sum().values\n",
    "under_2000_freq = under_2000/whidbey_timeseries['time'].size\n",
    "under_2000_freq"
   ]
  },
  {
   "cell_type": "code",
   "execution_count": 16,
   "metadata": {},
   "outputs": [
    {
     "data": {
      "text/plain": [
       "0.034547014833885004"
      ]
     },
     "execution_count": 16,
     "metadata": {},
     "output_type": "execute_result"
    }
   ],
   "source": [
    "under_600 = (whidbey_timeseries < 600).sum().values\n",
    "under_600_freq = under_600/whidbey_timeseries['time'].size\n",
    "under_600_freq"
   ]
  },
  {
   "cell_type": "markdown",
   "metadata": {},
   "source": [
    "## False Bay"
   ]
  },
  {
   "cell_type": "code",
   "execution_count": 18,
   "metadata": {},
   "outputs": [],
   "source": [
    "falsebay = (48.48, -123.06)\n",
    "falsebay_timeseries = ds['Height'].sel(latitude = falsebay[0], longitude = falsebay[1], method='nearest')"
   ]
  },
  {
   "cell_type": "code",
   "execution_count": 21,
   "metadata": {},
   "outputs": [],
   "source": [
    "falsebay_timeseries = falsebay_timeseries.sel(time = slice('May 01, 2022', 'July 18, 2022'))"
   ]
  },
  {
   "cell_type": "code",
   "execution_count": 22,
   "metadata": {},
   "outputs": [
    {
     "data": {
      "text/plain": [
       "0.2173555230431602"
      ]
     },
     "execution_count": 22,
     "metadata": {},
     "output_type": "execute_result"
    }
   ],
   "source": [
    "under_2000 = (falsebay_timeseries < 2000).sum().values\n",
    "under_2000_freq = under_2000/falsebay_timeseries['time'].size\n",
    "under_2000_freq"
   ]
  },
  {
   "cell_type": "code",
   "execution_count": 23,
   "metadata": {},
   "outputs": [
    {
     "data": {
      "text/plain": [
       "0.050201170446232624"
      ]
     },
     "execution_count": 23,
     "metadata": {},
     "output_type": "execute_result"
    }
   ],
   "source": [
    "under_600 = (falsebay_timeseries < 600).sum().values\n",
    "under_600_freq = under_600/falsebay_timeseries['time'].size\n",
    "under_600_freq"
   ]
  },
  {
   "cell_type": "markdown",
   "metadata": {},
   "source": [
    "## Mt Dallas"
   ]
  },
  {
   "cell_type": "code",
   "execution_count": 6,
   "metadata": {},
   "outputs": [],
   "source": [
    "mtdallas = (48.53, -123.13)\n",
    "mtdallas_timeseries = ds['Height'].sel(latitude = mtdallas[0], longitude = mtdallas[1], method='nearest')\n",
    "mtdallas_timeseries = mtdallas_timeseries.sel(time = slice('July 19, 2022', 'September 30, 2022'))"
   ]
  },
  {
   "cell_type": "code",
   "execution_count": 8,
   "metadata": {},
   "outputs": [
    {
     "data": {
      "text/plain": [
       "0.5320842842736585"
      ]
     },
     "execution_count": 8,
     "metadata": {},
     "output_type": "execute_result"
    }
   ],
   "source": [
    "under_2000 = (mtdallas_timeseries < 2000).sum().values\n",
    "under_2000_freq = under_2000/mtdallas_timeseries['time'].size\n",
    "under_2000_freq"
   ]
  },
  {
   "cell_type": "code",
   "execution_count": 11,
   "metadata": {},
   "outputs": [
    {
     "data": {
      "text/plain": [
       "0.27312775330396477"
      ]
     },
     "execution_count": 11,
     "metadata": {},
     "output_type": "execute_result"
    }
   ],
   "source": [
    "under_600 = (mtdallas_timeseries < 600).sum().values\n",
    "under_600_freq = under_600/mtdallas_timeseries['time'].size\n",
    "under_600_freq"
   ]
  },
  {
   "cell_type": "code",
   "execution_count": 7,
   "metadata": {},
   "outputs": [],
   "source": [
    "# fhl = (48.55, -123.01)\n",
    "# fhl_timeseries = ds['Height'].sel(latitude = fhl[0], longitude = fhl[1], method='nearest')\n",
    "# fhl_timeseries.to_dataframe().to_csv('fhl_cloudheight_df.csv') \n",
    "# # took 4 mins"
   ]
  },
  {
   "cell_type": "code",
   "execution_count": 8,
   "metadata": {},
   "outputs": [],
   "source": [
    "mtdallas = (48.53, -123.13)\n",
    "mtdallas_timeseries = ds['Height'].sel(latitude = mtdallas[0], longitude = mtdallas[1], method='nearest')\n",
    "# mtdallas_timeseries.to_dataframe().to_csv('mtdallas_cloudheight_df.csv')\n",
    "# took only 10 seconds?!"
   ]
  },
  {
   "cell_type": "code",
   "execution_count": null,
   "metadata": {},
   "outputs": [],
   "source": []
  }
 ],
 "metadata": {
  "kernelspec": {
   "display_name": "goesenv",
   "language": "python",
   "name": "python3"
  },
  "language_info": {
   "codemirror_mode": {
    "name": "ipython",
    "version": 3
   },
   "file_extension": ".py",
   "mimetype": "text/x-python",
   "name": "python",
   "nbconvert_exporter": "python",
   "pygments_lexer": "ipython3",
   "version": "3.11.4"
  },
  "orig_nbformat": 4
 },
 "nbformat": 4,
 "nbformat_minor": 2
}
