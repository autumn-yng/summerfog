{
 "cells": [
  {
   "cell_type": "markdown",
   "id": "93eadf59",
   "metadata": {},
   "source": [
    "# Create Zarr dataset from the GOES-17 raster files\n",
    "This notebook creates a zarr dataset from all the files stored in the directory `'/storage/GOES/orthorectified/Fog2022_withtime/'`. \n",
    "\n",
    "The zarr dataset is stored at the path `'/storage/GOES/orthorectified/Fog2022_withtime.zarr'`. \n",
    "\n",
    "The saved zarr dataset is optimized for access along the time-index, i.e. it allows us to grab time series for an individual pixel very quickly. \n",
    "\n",
    "We also utilized Dask, a Python library for parallel computing, to divide our large dataset into many smaller pieces, called chunks, each chunk small enough to load into memory. We used Dask every time we passed in an argument for “chunks” or called the “rechunk” method."
   ]
  },
  {
   "cell_type": "code",
   "execution_count": 1,
   "id": "2f6a154c",
   "metadata": {},
   "outputs": [],
   "source": [
    "import os\n",
    "import glob\n",
    "import shutil\n",
    "import xarray as xr\n",
    "import zarr\n",
    "from dask.distributed import Client, LocalCluster"
   ]
  },
  {
   "cell_type": "code",
   "execution_count": 2,
   "id": "3140107e",
   "metadata": {},
   "outputs": [],
   "source": [
    "fixed_image_folder = '/storage/GOES/orthorectified/Fog2022_withtime/'\n",
    "zarr_output_path = '/storage/GOES/orthorectified/Fog2022_withtime.zarr'\n",
    "# tmp_zarr_output_path = '/storage/GOES/orthorectified/Fog2022_withtime_tmp.zarr'"
   ]
  },
  {
   "cell_type": "code",
   "execution_count": 3,
   "id": "9c3eda8d",
   "metadata": {},
   "outputs": [],
   "source": [
    "# Create a Dask cluster so we can watch the dask dashboard\n",
    "# If this cell is not run, how many computer cores will be used?\n",
    "workers = 6\n",
    "ip_addres = 'http://j-lundquist-3.ce.washington.edu'\n",
    "port=':8787'\n",
    "threads = 2\n",
    "cluster = LocalCluster(n_workers=workers, threads_per_worker=threads, dashboard_address=port)\n",
    "client = Client(cluster)"
   ]
  },
  {
   "cell_type": "markdown",
   "id": "696d07cd",
   "metadata": {},
   "source": [
    "### Sort the raster files chronologically"
   ]
  },
  {
   "cell_type": "code",
   "execution_count": 3,
   "id": "cdde650e",
   "metadata": {},
   "outputs": [],
   "source": [
    "# Because the files in `'/storage/GOES/orthorectified/Fog2022_withtime/'` may not be in a chronological order, we sort them so that the timeseries data we are creating will be in a chronological order.\n",
    "\n",
    "def get_start_date_from_G17_filename(s):\n",
    "    return s.split('_G17_s')[1].split('_')[0]\n",
    "\n",
    "nc_files = sorted(\n",
    "    glob.glob(os.path.join(fixed_image_folder, '*.nc')),\n",
    "    key=get_start_date_from_G17_filename\n",
    ")"
   ]
  },
  {
   "cell_type": "code",
   "execution_count": 4,
   "id": "9b73e997",
   "metadata": {},
   "outputs": [
    {
     "data": {
      "text/plain": [
       "['/storage/GOES/orthorectified/Fog2022_withtime/OR_ABI-L2-ACHAC-M6_G17_s20221210001177_e20221210003550_c20221210007095_o.nc',\n",
       " '/storage/GOES/orthorectified/Fog2022_withtime/OR_ABI-L2-ACHAC-M6_G17_s20221210006177_e20221210008550_c20221210012545_o.nc',\n",
       " '/storage/GOES/orthorectified/Fog2022_withtime/OR_ABI-L2-ACHAC-M6_G17_s20221210011177_e20221210013550_c20221210016212_o.nc']"
      ]
     },
     "execution_count": 4,
     "metadata": {},
     "output_type": "execute_result"
    }
   ],
   "source": [
    "# The first files should be from May 1st which is the 121st day of the year, indicated by the string \"s2022121_\"\n",
    "nc_files[:3]"
   ]
  },
  {
   "cell_type": "code",
   "execution_count": 5,
   "metadata": {},
   "outputs": [
    {
     "data": {
      "text/plain": [
       "['/storage/GOES/orthorectified/Fog2022_withtime/OR_ABI-L2-ACHAC-M6_G17_s20222732341177_e20222732343550_c20222732346022_o.nc',\n",
       " '/storage/GOES/orthorectified/Fog2022_withtime/OR_ABI-L2-ACHAC-M6_G17_s20222732346177_e20222732348549_c20222732351218_o.nc',\n",
       " '/storage/GOES/orthorectified/Fog2022_withtime/OR_ABI-L2-ACHAC-M6_G17_s20222732351177_e20222732353549_c20222732356295_o.nc']"
      ]
     },
     "execution_count": 5,
     "metadata": {},
     "output_type": "execute_result"
    }
   ],
   "source": [
    "# The last files should be from September 30th which is the 273rd day of the year, indicated by the string \"s2022273_\"\n",
    "nc_files[-3:]"
   ]
  },
  {
   "cell_type": "markdown",
   "id": "dba4916d",
   "metadata": {},
   "source": [
    "### Combine raster files into one dataset\n",
    "Open by chunksename variable, change time zone."
   ]
  },
  {
   "cell_type": "code",
   "execution_count": 6,
   "id": "9a47c240",
   "metadata": {},
   "outputs": [],
   "source": [
    "# Open all the raster files as a single dataset (combining them together)\n",
    "# Why did we choose chunks = 500? 100MB?\n",
    "# https://docs.xarray.dev/en/stable/user-guide/dask.html#optimization-tips\n",
    "ds = xr.open_mfdataset(nc_files, chunks={'time': 500})"
   ]
  },
  {
   "cell_type": "code",
   "execution_count": 7,
   "id": "ea4ffcec",
   "metadata": {},
   "outputs": [],
   "source": [
    "# Rename HT as a more indicative name: Height\n",
    "ds = ds.rename({'HT': 'Height'})"
   ]
  },
  {
   "cell_type": "code",
   "execution_count": 8,
   "id": "21413aa6",
   "metadata": {},
   "outputs": [],
   "source": [
    "# Function to change timezone of the xarray dataset\n",
    "def modify_xarray_timezone(ds, source_tz, target_tz):\n",
    "    \"\"\"Modify the timezone of an xr.Dataset. The dataset should have a coordinate and dimension 'time'.\n",
    "    The returned xr.Dataset object will have the original 'time' coordinate/dimension overwritten.\n",
    "\n",
    "    Args:\n",
    "        ds (xr.Dataset): xarray Dataset object to have its time coordinate/dimension converted.\n",
    "        source_tz (_type_): A pytz timezone object specifying the timezone the data is already in. \n",
    "                For example, `pytz.UTC`.\n",
    "        target_tz (_type_): A pytz timezone object specifying the timezone the data is to be \n",
    "                converted to. For example, `pytz.timezone('US/Mountain')`.\n",
    "\n",
    "    Returns:\n",
    "        xr.Dataset: xarray Dataset with the time coordinate/dimension overwritten with the modified \n",
    "                timestamps.\n",
    "    \"\"\"\n",
    "    ds = ds.copy()\n",
    "    time_utc = ds['time'].to_index().tz_localize(source_tz)\n",
    "    tz_corrected = time_utc.tz_convert(target_tz).tz_localize(None)\n",
    "    local_da=xr.DataArray.from_series(tz_corrected)\n",
    "    ds.coords.update({f'time ({target_tz})': tz_corrected})\n",
    "    ds.coords.update({f'time ({source_tz})': ds['time'].to_index()})\n",
    "    ds = ds.assign_coords({\n",
    "        'time': ds[f'time ({target_tz})'].values\n",
    "    })\n",
    "    return ds"
   ]
  },
  {
   "cell_type": "code",
   "execution_count": 9,
   "id": "f0032c23",
   "metadata": {},
   "outputs": [],
   "source": [
    "# Change from UTC time to US/Pacific timezone which the area of interest, Washington state, is in\n",
    "ds = modify_xarray_timezone(ds, 'UTC', 'US/Pacific')"
   ]
  },
  {
   "cell_type": "markdown",
   "id": "4d54ae94",
   "metadata": {},
   "source": [
    "### Rechunk along the time dimension"
   ]
  },
  {
   "cell_type": "code",
   "execution_count": 10,
   "id": "11fbcaac",
   "metadata": {},
   "outputs": [],
   "source": [
    "# Dask's rechunk documentation: https://docs.dask.org/en/stable/generated/dask.array.rechunk.html\n",
    "\n",
    "# 0:-1 specifies that we want the dataset to be chunked along the 0th dimension -- the time dimension, which means that each chunk will have all 40 thousand values in time dimension\n",
    "# 1:'auto', 2:'auto' and balance=True specifies that dask can freely rechunk along the latitude and longitude dimensions to attain blocks that have a uniform size\n",
    "ds['Height'].data.rechunk(\n",
    "    {0:-1, 1:'auto', 2:'auto'}, \n",
    "    block_size_limit=1e8, \n",
    "    balance=True\n",
    ")\n",
    "\n",
    "# Assign the dimensions of a chunk to variables to use for encoding afterwards\n",
    "t,y,x = ds['Height'].data.chunks[0][0], ds['Height'].data.chunks[1][0], ds['Height'].data.chunks[2][0]"
   ]
  },
  {
   "cell_type": "code",
   "execution_count": 11,
   "id": "a55383f3",
   "metadata": {},
   "outputs": [
    {
     "data": {
      "text/html": [
       "<table>\n",
       "    <tr>\n",
       "        <td>\n",
       "            <table style=\"border-collapse: collapse;\">\n",
       "                <thead>\n",
       "                    <tr>\n",
       "                        <td> </td>\n",
       "                        <th> Array </th>\n",
       "                        <th> Chunk </th>\n",
       "                    </tr>\n",
       "                </thead>\n",
       "                <tbody>\n",
       "                    \n",
       "                    <tr>\n",
       "                        <th> Bytes </th>\n",
       "                        <td> 12.25 GiB </td>\n",
       "                        <td> 315.06 kiB </td>\n",
       "                    </tr>\n",
       "                    \n",
       "                    <tr>\n",
       "                        <th> Shape </th>\n",
       "                        <td> (40785, 284, 284) </td>\n",
       "                        <td> (1, 284, 284) </td>\n",
       "                    </tr>\n",
       "                    <tr>\n",
       "                        <th> Dask graph </th>\n",
       "                        <td colspan=\"2\"> 40785 chunks in 81571 graph layers </td>\n",
       "                    </tr>\n",
       "                    <tr>\n",
       "                        <th> Data type </th>\n",
       "                        <td colspan=\"2\"> float32 numpy.ndarray </td>\n",
       "                    </tr>\n",
       "                </tbody>\n",
       "            </table>\n",
       "        </td>\n",
       "        <td>\n",
       "        <svg width=\"156\" height=\"146\" style=\"stroke:rgb(0,0,0);stroke-width:1\" >\n",
       "\n",
       "  <!-- Horizontal lines -->\n",
       "  <line x1=\"10\" y1=\"0\" x2=\"80\" y2=\"70\" style=\"stroke-width:2\" />\n",
       "  <line x1=\"10\" y1=\"25\" x2=\"80\" y2=\"96\" style=\"stroke-width:2\" />\n",
       "\n",
       "  <!-- Vertical lines -->\n",
       "  <line x1=\"10\" y1=\"0\" x2=\"10\" y2=\"25\" style=\"stroke-width:2\" />\n",
       "  <line x1=\"13\" y1=\"3\" x2=\"13\" y2=\"29\" />\n",
       "  <line x1=\"17\" y1=\"7\" x2=\"17\" y2=\"32\" />\n",
       "  <line x1=\"21\" y1=\"11\" x2=\"21\" y2=\"36\" />\n",
       "  <line x1=\"24\" y1=\"14\" x2=\"24\" y2=\"40\" />\n",
       "  <line x1=\"28\" y1=\"18\" x2=\"28\" y2=\"43\" />\n",
       "  <line x1=\"32\" y1=\"22\" x2=\"32\" y2=\"47\" />\n",
       "  <line x1=\"36\" y1=\"26\" x2=\"36\" y2=\"51\" />\n",
       "  <line x1=\"39\" y1=\"29\" x2=\"39\" y2=\"55\" />\n",
       "  <line x1=\"43\" y1=\"33\" x2=\"43\" y2=\"58\" />\n",
       "  <line x1=\"47\" y1=\"37\" x2=\"47\" y2=\"62\" />\n",
       "  <line x1=\"50\" y1=\"40\" x2=\"50\" y2=\"66\" />\n",
       "  <line x1=\"54\" y1=\"44\" x2=\"54\" y2=\"69\" />\n",
       "  <line x1=\"58\" y1=\"48\" x2=\"58\" y2=\"73\" />\n",
       "  <line x1=\"62\" y1=\"52\" x2=\"62\" y2=\"77\" />\n",
       "  <line x1=\"65\" y1=\"55\" x2=\"65\" y2=\"81\" />\n",
       "  <line x1=\"69\" y1=\"59\" x2=\"69\" y2=\"84\" />\n",
       "  <line x1=\"73\" y1=\"63\" x2=\"73\" y2=\"88\" />\n",
       "  <line x1=\"76\" y1=\"66\" x2=\"76\" y2=\"92\" />\n",
       "  <line x1=\"80\" y1=\"70\" x2=\"80\" y2=\"96\" style=\"stroke-width:2\" />\n",
       "\n",
       "  <!-- Colored Rectangle -->\n",
       "  <polygon points=\"10.0,0.0 80.58823529411765,70.58823529411765 80.58823529411765,96.00085180870013 10.0,25.412616514582485\" style=\"fill:#8B4903A0;stroke-width:0\"/>\n",
       "\n",
       "  <!-- Horizontal lines -->\n",
       "  <line x1=\"10\" y1=\"0\" x2=\"35\" y2=\"0\" style=\"stroke-width:2\" />\n",
       "  <line x1=\"13\" y1=\"3\" x2=\"39\" y2=\"3\" />\n",
       "  <line x1=\"17\" y1=\"7\" x2=\"42\" y2=\"7\" />\n",
       "  <line x1=\"21\" y1=\"11\" x2=\"46\" y2=\"11\" />\n",
       "  <line x1=\"24\" y1=\"14\" x2=\"50\" y2=\"14\" />\n",
       "  <line x1=\"28\" y1=\"18\" x2=\"53\" y2=\"18\" />\n",
       "  <line x1=\"32\" y1=\"22\" x2=\"57\" y2=\"22\" />\n",
       "  <line x1=\"36\" y1=\"26\" x2=\"61\" y2=\"26\" />\n",
       "  <line x1=\"39\" y1=\"29\" x2=\"65\" y2=\"29\" />\n",
       "  <line x1=\"43\" y1=\"33\" x2=\"68\" y2=\"33\" />\n",
       "  <line x1=\"47\" y1=\"37\" x2=\"72\" y2=\"37\" />\n",
       "  <line x1=\"50\" y1=\"40\" x2=\"76\" y2=\"40\" />\n",
       "  <line x1=\"54\" y1=\"44\" x2=\"79\" y2=\"44\" />\n",
       "  <line x1=\"58\" y1=\"48\" x2=\"83\" y2=\"48\" />\n",
       "  <line x1=\"62\" y1=\"52\" x2=\"87\" y2=\"52\" />\n",
       "  <line x1=\"65\" y1=\"55\" x2=\"91\" y2=\"55\" />\n",
       "  <line x1=\"69\" y1=\"59\" x2=\"94\" y2=\"59\" />\n",
       "  <line x1=\"73\" y1=\"63\" x2=\"98\" y2=\"63\" />\n",
       "  <line x1=\"76\" y1=\"66\" x2=\"102\" y2=\"66\" />\n",
       "  <line x1=\"80\" y1=\"70\" x2=\"106\" y2=\"70\" style=\"stroke-width:2\" />\n",
       "\n",
       "  <!-- Vertical lines -->\n",
       "  <line x1=\"10\" y1=\"0\" x2=\"80\" y2=\"70\" style=\"stroke-width:2\" />\n",
       "  <line x1=\"35\" y1=\"0\" x2=\"106\" y2=\"70\" style=\"stroke-width:2\" />\n",
       "\n",
       "  <!-- Colored Rectangle -->\n",
       "  <polygon points=\"10.0,0.0 35.41261651458248,0.0 106.00085180870013,70.58823529411765 80.58823529411765,70.58823529411765\" style=\"fill:#8B4903A0;stroke-width:0\"/>\n",
       "\n",
       "  <!-- Horizontal lines -->\n",
       "  <line x1=\"80\" y1=\"70\" x2=\"106\" y2=\"70\" style=\"stroke-width:2\" />\n",
       "  <line x1=\"80\" y1=\"96\" x2=\"106\" y2=\"96\" style=\"stroke-width:2\" />\n",
       "\n",
       "  <!-- Vertical lines -->\n",
       "  <line x1=\"80\" y1=\"70\" x2=\"80\" y2=\"96\" style=\"stroke-width:2\" />\n",
       "  <line x1=\"106\" y1=\"70\" x2=\"106\" y2=\"96\" style=\"stroke-width:2\" />\n",
       "\n",
       "  <!-- Colored Rectangle -->\n",
       "  <polygon points=\"80.58823529411765,70.58823529411765 106.00085180870013,70.58823529411765 106.00085180870013,96.00085180870013 80.58823529411765,96.00085180870013\" style=\"fill:#ECB172A0;stroke-width:0\"/>\n",
       "\n",
       "  <!-- Text -->\n",
       "  <text x=\"93.294544\" y=\"116.000852\" font-size=\"1.0rem\" font-weight=\"100\" text-anchor=\"middle\" >284</text>\n",
       "  <text x=\"126.000852\" y=\"83.294544\" font-size=\"1.0rem\" font-weight=\"100\" text-anchor=\"middle\" transform=\"rotate(-90,126.000852,83.294544)\">284</text>\n",
       "  <text x=\"35.294118\" y=\"80.706734\" font-size=\"1.0rem\" font-weight=\"100\" text-anchor=\"middle\" transform=\"rotate(45,35.294118,80.706734)\">40785</text>\n",
       "</svg>\n",
       "        </td>\n",
       "    </tr>\n",
       "</table>"
      ],
      "text/plain": [
       "dask.array<concatenate, shape=(40785, 284, 284), dtype=float32, chunksize=(1, 284, 284), chunktype=numpy.ndarray>"
      ]
     },
     "execution_count": 11,
     "metadata": {},
     "output_type": "execute_result"
    }
   ],
   "source": [
    "ds['Height'].data"
   ]
  },
  {
   "cell_type": "code",
   "execution_count": 12,
   "id": "7dfa0de2",
   "metadata": {},
   "outputs": [],
   "source": [
    "# Create an output zarr file and write these chunks to disk\n",
    "shutil.rmtree(zarr_output_path, ignore_errors=False)"
   ]
  },
  {
   "cell_type": "code",
   "execution_count": 13,
   "id": "0c010957",
   "metadata": {},
   "outputs": [
    {
     "name": "stderr",
     "output_type": "stream",
     "text": [
      "/tmp/ipykernel_4829/2775166651.py:3: SerializationWarning: coordinate 'time (US/Pacific)' has a space in its name, which means it cannot be marked as a coordinate on disk and will be saved as a data variable instead\n",
      "  ds.to_zarr(zarr_output_path)\n",
      "/tmp/ipykernel_4829/2775166651.py:3: SerializationWarning: coordinate 'time (UTC)' has a space in its name, which means it cannot be marked as a coordinate on disk and will be saved as a data variable instead\n",
      "  ds.to_zarr(zarr_output_path)\n"
     ]
    },
    {
     "data": {
      "text/plain": [
       "<xarray.backends.zarr.ZarrStore at 0x7fc672ed7df0>"
      ]
     },
     "execution_count": 13,
     "metadata": {},
     "output_type": "execute_result"
    }
   ],
   "source": [
    "ds['Height'].encoding = {'chunks': (t, y, x)}\n",
    "\n",
    "ds.to_zarr(zarr_output_path)"
   ]
  },
  {
   "cell_type": "code",
   "execution_count": 14,
   "id": "dcadc1c1",
   "metadata": {},
   "outputs": [
    {
     "name": "stdout",
     "output_type": "stream",
     "text": [
      "/\n",
      " ├── Height (40785, 284, 284) float32\n",
      " ├── latitude (284,) float64\n",
      " ├── longitude (284,) float64\n",
      " ├── spatial_ref (40785,) int64\n",
      " ├── time (40785,) int64\n",
      " ├── time (US\n",
      " │   └── Pacific) (40785,) int64\n",
      " └── time (UTC) (40785,) int64\n",
      "Name               : /Height\n",
      "Type               : zarr.core.Array\n",
      "Data type          : float32\n",
      "Shape              : (40785, 284, 284)\n",
      "Chunk shape        : (1, 284, 284)\n",
      "Order              : C\n",
      "Read-only          : False\n",
      "Compressor         : Blosc(cname='lz4', clevel=5, shuffle=SHUFFLE, blocksize=0)\n",
      "Store type         : zarr.storage.DirectoryStore\n",
      "No. bytes          : 13158219840 (12.3G)\n",
      "No. bytes stored   : 1938406915 (1.8G)\n",
      "Storage ratio      : 6.8\n",
      "Chunks initialized : 40785/40785\n",
      "\n"
     ]
    }
   ],
   "source": [
    "# Display \n",
    "source_group = zarr.open(zarr_output_path)\n",
    "source_array = source_group['Height']\n",
    "print(source_group.tree())\n",
    "print(source_array.info)\n",
    "del source_group\n",
    "del source_array"
   ]
  }
 ],
 "metadata": {
  "jupytext": {
   "cell_metadata_filter": "-all",
   "main_language": "python",
   "notebook_metadata_filter": "-all"
  },
  "kernelspec": {
   "display_name": "gtsa",
   "language": "python",
   "name": "python3"
  },
  "language_info": {
   "codemirror_mode": {
    "name": "ipython",
    "version": 3
   },
   "file_extension": ".py",
   "mimetype": "text/x-python",
   "name": "python",
   "nbconvert_exporter": "python",
   "pygments_lexer": "ipython3",
   "version": "3.11.4"
  }
 },
 "nbformat": 4,
 "nbformat_minor": 5
}
