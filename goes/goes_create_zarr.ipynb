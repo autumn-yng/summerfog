{
 "cells": [
  {
   "attachments": {},
   "cell_type": "markdown",
   "id": "93eadf59",
   "metadata": {},
   "source": [
    "This notebook creates a zarr dataset from all the files stored in the directory `'/storage/GOES/orthorectified/Fog2022_withtime/'`. The zarr dataset is stored at the path `'/storage/GOES/orthorectified/Fog2022_withtime_tmp.zarr'`. The saved zarr dataset is optimized for access along the time-index, i.e. it makes it very quick to grab time series for individual pixels. "
   ]
  },
  {
   "cell_type": "code",
   "execution_count": 1,
   "id": "2f6a154c",
   "metadata": {},
   "outputs": [],
   "source": [
    "import os\n",
    "import glob\n",
    "import shutil\n",
    "import xarray as xr\n",
    "import zarr\n",
    "from dask.distributed import Client, LocalCluster"
   ]
  },
  {
   "cell_type": "code",
   "execution_count": 2,
   "id": "3140107e",
   "metadata": {},
   "outputs": [],
   "source": [
    "fixed_image_folder = '/storage/GOES/orthorectified/Fog2022_withtime/'\n",
    "zarr_output_path = '/storage/GOES/orthorectified/Fog2022_withtime.zarr'\n",
    "tmp_zarr_output_path = '/storage/GOES/orthorectified/Fog2022_withtime_tmp.zarr'"
   ]
  },
  {
   "cell_type": "code",
   "execution_count": 3,
   "id": "9c3eda8d",
   "metadata": {},
   "outputs": [],
   "source": [
    "# Create a Dask cluster so we can watch the dask dashboard\n",
    "workers = 12\n",
    "ip_addres = 'http://j-lundquist-3.ce.washington.edu'\n",
    "port=':8787'\n",
    "threads = 2\n",
    "cluster = LocalCluster(n_workers=workers, threads_per_worker=threads, dashboard_address=port)\n",
    "client = Client(cluster)"
   ]
  },
  {
   "cell_type": "code",
   "execution_count": 4,
   "id": "cdde650e",
   "metadata": {},
   "outputs": [],
   "source": [
    "# Grab all the netcdf files\n",
    "nc_files = sorted(glob.glob(os.path.join(fixed_image_folder, '*.nc')))"
   ]
  },
  {
   "cell_type": "code",
   "execution_count": null,
   "id": "9a47c240",
   "metadata": {},
   "outputs": [],
   "source": [
    "# Open all the files\n",
    "ds = xr.open_mfdataset(nc_files, chunks={'time': 500})"
   ]
  },
  {
   "cell_type": "code",
   "execution_count": null,
   "id": "4cc85912",
   "metadata": {
    "lines_to_next_cell": 2
   },
   "outputs": [],
   "source": [
    "# Rechunk in to 1e8 byte sized chunks\n",
    "ds['HT'].data = ds['HT'].data.rechunk(\n",
    "    {0:'auto', 1:'auto', 2:'auto'},\n",
    "    block_size_limit=1e8,\n",
    "    balance=True\n",
    ")"
   ]
  },
  {
   "cell_type": "code",
   "execution_count": null,
   "id": "8871608c",
   "metadata": {},
   "outputs": [],
   "source": [
    "# Create a temporary zarr file and write these chunks to disk\n",
    "zarr_stack_tmp = tmp_zarr_output_path\n",
    "shutil.rmtree(zarr_stack_tmp, ignore_errors=True)\n",
    "ds.to_zarr(tmp_zarr_output_path)"
   ]
  },
  {
   "cell_type": "code",
   "execution_count": null,
   "id": "0b09f72f",
   "metadata": {},
   "outputs": [],
   "source": [
    "source_group = zarr.open(zarr_stack_tmp)\n",
    "source_array = source_group['HT']\n",
    "print(source_group.tree())\n",
    "print(source_array.info)\n",
    "del source_group\n",
    "del source_array"
   ]
  },
  {
   "cell_type": "code",
   "execution_count": null,
   "id": "dc5ff552",
   "metadata": {},
   "outputs": [],
   "source": [
    "# Rechunk along time dimension and write to disk\n",
    "shutil.rmtree(zarr_output_path, ignore_errors=True)"
   ]
  },
  {
   "cell_type": "code",
   "execution_count": null,
   "id": "11fbcaac",
   "metadata": {},
   "outputs": [],
   "source": [
    "arr = ds['HT'].data.rechunk(\n",
    "    {0:-1, 1:'auto', 2:'auto'}, \n",
    "    block_size_limit=1e8, \n",
    "    balance=True\n",
    ")\n",
    "\n",
    "t,y,x = arr.chunks[0][0], arr.chunks[1][0], arr.chunks[2][0]\n",
    "ds = xr.open_dataset(\n",
    "    zarr_stack_tmp,\n",
    "    chunks={'time': t, 'latitude': y, 'longitude':x},\n",
    "    engine='zarr'\n",
    ")\n",
    "\n",
    "ds['HT'].encoding = {'chunks': (t, y, x)}\n",
    "\n",
    "ds.to_zarr(zarr_output_path)"
   ]
  },
  {
   "cell_type": "code",
   "execution_count": null,
   "id": "dcadc1c1",
   "metadata": {},
   "outputs": [],
   "source": [
    "source_group = zarr.open(zarr_output_path)\n",
    "source_array = source_group['HT']\n",
    "print(source_group.tree())\n",
    "print(source_array.info)\n",
    "del source_group\n",
    "del source_array"
   ]
  }
 ],
 "metadata": {
  "jupytext": {
   "cell_metadata_filter": "-all",
   "main_language": "python",
   "notebook_metadata_filter": "-all"
  },
  "kernelspec": {
   "display_name": "gtsa",
   "language": "python",
   "name": "python3"
  },
  "language_info": {
   "codemirror_mode": {
    "name": "ipython",
    "version": 3
   },
   "file_extension": ".py",
   "mimetype": "text/x-python",
   "name": "python",
   "nbconvert_exporter": "python",
   "pygments_lexer": "ipython3",
   "version": "3.11.4"
  }
 },
 "nbformat": 4,
 "nbformat_minor": 5
}
