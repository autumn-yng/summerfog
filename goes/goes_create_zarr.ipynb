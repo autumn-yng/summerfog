{
 "cells": [
  {
   "attachments": {},
   "cell_type": "markdown",
   "id": "93eadf59",
   "metadata": {},
   "source": [
    "This notebook creates a zarr dataset from all the files stored in the directory `'/storage/GOES/orthorectified/Fog2022_withtime/'`. The zarr dataset is stored at the path `'/storage/GOES/orthorectified/Fog2022_withtime_tmp.zarr'`. The saved zarr dataset is optimized for access along the time-index, i.e. it makes it very quick to grab time series for individual pixels. "
   ]
  },
  {
   "cell_type": "code",
   "execution_count": 1,
   "id": "2f6a154c",
   "metadata": {},
   "outputs": [],
   "source": [
    "import os\n",
    "import glob\n",
    "import shutil\n",
    "import xarray as xr\n",
    "import zarr\n",
    "from dask.distributed import Client, LocalCluster"
   ]
  },
  {
   "cell_type": "code",
   "execution_count": 2,
   "id": "3140107e",
   "metadata": {},
   "outputs": [],
   "source": [
    "fixed_image_folder = '/storage/GOES/orthorectified/Fog2022_withtime/'\n",
    "zarr_output_path = '/storage/GOES/orthorectified/Fog2022_withtime.zarr'\n",
    "tmp_zarr_output_path = '/storage/GOES/orthorectified/Fog2022_withtime_tmp.zarr'"
   ]
  },
  {
   "cell_type": "code",
   "execution_count": 3,
   "id": "9c3eda8d",
   "metadata": {},
   "outputs": [],
   "source": [
    "# Create a Dask cluster so we can watch the dask dashboard\n",
    "workers = 6\n",
    "ip_addres = 'http://j-lundquist-3.ce.washington.edu'\n",
    "port=':8787'\n",
    "threads = 2\n",
    "cluster = LocalCluster(n_workers=workers, threads_per_worker=threads, dashboard_address=port)\n",
    "client = Client(cluster)"
   ]
  },
  {
   "cell_type": "code",
   "execution_count": 4,
   "id": "cdde650e",
   "metadata": {},
   "outputs": [],
   "source": [
    "# Grab all the netcdf files and sort them by the order of the start time when the images were taken\n",
    "def get_start_date_from_G17_filename(s):\n",
    "    return s.split('_G17_s')[1].split('_')[0]\n",
    "\n",
    "nc_files = sorted(\n",
    "    glob.glob(os.path.join(fixed_image_folder, '*.nc')),\n",
    "    key=get_start_date_from_G17_filename\n",
    ")"
   ]
  },
  {
   "cell_type": "code",
   "execution_count": 5,
   "id": "9b73e997",
   "metadata": {},
   "outputs": [
    {
     "data": {
      "text/plain": [
       "['/storage/GOES/orthorectified/Fog2022_withtime/OR_ABI-L2-ACHAC-M6_G17_s20221210001177_e20221210003550_c20221210007095_o.nc',\n",
       " '/storage/GOES/orthorectified/Fog2022_withtime/OR_ABI-L2-ACHAC-M6_G17_s20221210006177_e20221210008550_c20221210012545_o.nc',\n",
       " '/storage/GOES/orthorectified/Fog2022_withtime/OR_ABI-L2-ACHAC-M6_G17_s20221210011177_e20221210013550_c20221210016212_o.nc']"
      ]
     },
     "execution_count": 5,
     "metadata": {},
     "output_type": "execute_result"
    }
   ],
   "source": [
    "# The first files should be from May 1st which is the 121st day of the year, indicated by the string \"s2022121_\"\n",
    "nc_files[:3]"
   ]
  },
  {
   "cell_type": "code",
   "execution_count": 6,
   "metadata": {},
   "outputs": [
    {
     "data": {
      "text/plain": [
       "['/storage/GOES/orthorectified/Fog2022_withtime/OR_ABI-L2-ACHAC-M6_G17_s20222732341177_e20222732343550_c20222732346022_o.nc',\n",
       " '/storage/GOES/orthorectified/Fog2022_withtime/OR_ABI-L2-ACHAC-M6_G17_s20222732346177_e20222732348549_c20222732351218_o.nc',\n",
       " '/storage/GOES/orthorectified/Fog2022_withtime/OR_ABI-L2-ACHAC-M6_G17_s20222732351177_e20222732353549_c20222732356295_o.nc']"
      ]
     },
     "execution_count": 6,
     "metadata": {},
     "output_type": "execute_result"
    }
   ],
   "source": [
    "# The last files should be from September 30th which is the 273rd day of the year, indicated by the string \"s2022273_\"\n",
    "nc_files[-3:]"
   ]
  },
  {
   "cell_type": "code",
   "execution_count": 7,
   "id": "9a47c240",
   "metadata": {},
   "outputs": [],
   "source": [
    "# Open all the files\n",
    "ds = xr.open_mfdataset(nc_files, chunks={'time': 500})"
   ]
  },
  {
   "cell_type": "code",
   "execution_count": 8,
   "id": "ea4ffcec",
   "metadata": {},
   "outputs": [],
   "source": [
    "# Rename HT as a more indicative name: Height\n",
    "ds = ds.rename({'HT': 'Height'})"
   ]
  },
  {
   "cell_type": "code",
   "execution_count": 9,
   "id": "21413aa6",
   "metadata": {},
   "outputs": [],
   "source": [
    "# Function to change timezone of the xarray dataset\n",
    "def modify_xarray_timezone(ds, source_tz, target_tz):\n",
    "    \"\"\"Modify the timezone of an xr.Dataset. The dataset should have a coordinate and dimension 'time'.\n",
    "    The returned xr.Dataset object will have the original 'time' coordinate/dimension overwritten.\n",
    "\n",
    "    Args:\n",
    "        ds (xr.Dataset): xarray Dataset object to have its time coordinate/dimension converted.\n",
    "        source_tz (_type_): A pytz timezone object specifying the timezone the data is already in. \n",
    "                For example, `pytz.UTC`.\n",
    "        target_tz (_type_): A pytz timezone object specifying the timezone the data is to be \n",
    "                converted to. For example, `pytz.timezone('US/Mountain')`.\n",
    "\n",
    "    Returns:\n",
    "        xr.Dataset: xarray Dataset with the time coordinate/dimension overwritten with the modified \n",
    "                timestamps.\n",
    "    \"\"\"\n",
    "    ds = ds.copy()\n",
    "    time_utc = ds['time'].to_index().tz_localize(source_tz)\n",
    "    tz_corrected = time_utc.tz_convert(target_tz).tz_localize(None)\n",
    "    local_da=xr.DataArray.from_series(tz_corrected)\n",
    "    ds.coords.update({f'time ({target_tz})': tz_corrected})\n",
    "    ds.coords.update({f'time ({source_tz})': ds['time'].to_index()})\n",
    "    ds = ds.assign_coords({\n",
    "        'time': ds[f'time ({target_tz})'].values\n",
    "    })\n",
    "    return ds"
   ]
  },
  {
   "cell_type": "code",
   "execution_count": 10,
   "id": "f0032c23",
   "metadata": {},
   "outputs": [],
   "source": [
    "# Change from UTC time to US/Pacific timezone which the area of interest, Washington state, is in\n",
    "ds = modify_xarray_timezone(ds, 'UTC', 'US/Pacific')"
   ]
  },
  {
   "cell_type": "code",
   "execution_count": 11,
   "id": "48894fc1",
   "metadata": {},
   "outputs": [],
   "source": [
    "# Rechunk in to 1e8 byte sized chunks\n",
    "ds['Height'].data = ds['Height'].data.rechunk(\n",
    "    {0:'auto', 1:'auto', 2:'auto'},\n",
    "    block_size_limit=1e8,\n",
    "    balance=True\n",
    ")"
   ]
  },
  {
   "cell_type": "code",
   "execution_count": 12,
   "id": "1cd48af0",
   "metadata": {},
   "outputs": [
    {
     "name": "stderr",
     "output_type": "stream",
     "text": [
      "/tmp/ipykernel_26824/1694133122.py:3: SerializationWarning: coordinate 'time (UTC)' has a space in its name, which means it cannot be marked as a coordinate on disk and will be saved as a data variable instead\n",
      "  ds.to_zarr(tmp_zarr_output_path)\n",
      "/tmp/ipykernel_26824/1694133122.py:3: SerializationWarning: coordinate 'time (US/Pacific)' has a space in its name, which means it cannot be marked as a coordinate on disk and will be saved as a data variable instead\n",
      "  ds.to_zarr(tmp_zarr_output_path)\n",
      "/home/ngoc54n/miniconda3/envs/goesenv/lib/python3.11/site-packages/distributed/client.py:3125: UserWarning: Sending large graph of size 34.21 MiB.\n",
      "This may cause some slowdown.\n",
      "Consider scattering data ahead of time and using futures.\n",
      "  warnings.warn(\n"
     ]
    },
    {
     "data": {
      "text/plain": [
       "<xarray.backends.zarr.ZarrStore at 0x7ff9728971b0>"
      ]
     },
     "execution_count": 12,
     "metadata": {},
     "output_type": "execute_result"
    }
   ],
   "source": [
    "# Create a temporary zarr file and write these chunks to disk\n",
    "shutil.rmtree(tmp_zarr_output_path, ignore_errors=False)\n",
    "ds.to_zarr(tmp_zarr_output_path)"
   ]
  },
  {
   "cell_type": "code",
   "execution_count": 13,
   "id": "a5499602",
   "metadata": {},
   "outputs": [
    {
     "name": "stdout",
     "output_type": "stream",
     "text": [
      "/\n",
      " ├── Height (40785, 284, 284) float32\n",
      " ├── latitude (284,) float64\n",
      " ├── longitude (284,) float64\n",
      " ├── spatial_ref (40785,) int64\n",
      " ├── time (40785,) int64\n",
      " ├── time (US\n",
      " │   └── Pacific) (40785,) int64\n",
      " └── time (UTC) (40785,) int64\n",
      "Name               : /Height\n",
      "Type               : zarr.core.Array\n",
      "Data type          : float32\n",
      "Shape              : (40785, 284, 284)\n",
      "Chunk shape        : (309, 284, 284)\n",
      "Order              : C\n",
      "Read-only          : False\n",
      "Compressor         : Blosc(cname='lz4', clevel=5, shuffle=SHUFFLE, blocksize=0)\n",
      "Store type         : zarr.storage.DirectoryStore\n",
      "No. bytes          : 13158219840 (12.3G)\n",
      "No. bytes stored   : 1975266764 (1.8G)\n",
      "Storage ratio      : 6.7\n",
      "Chunks initialized : 132/132\n",
      "\n"
     ]
    }
   ],
   "source": [
    "source_group = zarr.open(tmp_zarr_output_path)\n",
    "source_array = source_group['Height']\n",
    "print(source_group.tree())\n",
    "print(source_array.info)\n",
    "del source_group\n",
    "del source_array"
   ]
  },
  {
   "cell_type": "code",
   "execution_count": 14,
   "id": "11fbcaac",
   "metadata": {},
   "outputs": [
    {
     "data": {
      "text/html": [
       "<table>\n",
       "    <tr>\n",
       "        <td>\n",
       "            <table style=\"border-collapse: collapse;\">\n",
       "                <thead>\n",
       "                    <tr>\n",
       "                        <td> </td>\n",
       "                        <th> Array </th>\n",
       "                        <th> Chunk </th>\n",
       "                    </tr>\n",
       "                </thead>\n",
       "                <tbody>\n",
       "                    \n",
       "                    <tr>\n",
       "                        <th> Bytes </th>\n",
       "                        <td> 12.25 GiB </td>\n",
       "                        <td> 89.62 MiB </td>\n",
       "                    </tr>\n",
       "                    \n",
       "                    <tr>\n",
       "                        <th> Shape </th>\n",
       "                        <td> (40785, 284, 284) </td>\n",
       "                        <td> (40785, 24, 24) </td>\n",
       "                    </tr>\n",
       "                    <tr>\n",
       "                        <th> Dask graph </th>\n",
       "                        <td colspan=\"2\"> 144 chunks in 81575 graph layers </td>\n",
       "                    </tr>\n",
       "                    <tr>\n",
       "                        <th> Data type </th>\n",
       "                        <td colspan=\"2\"> float32 numpy.ndarray </td>\n",
       "                    </tr>\n",
       "                </tbody>\n",
       "            </table>\n",
       "        </td>\n",
       "        <td>\n",
       "        <svg width=\"156\" height=\"146\" style=\"stroke:rgb(0,0,0);stroke-width:1\" >\n",
       "\n",
       "  <!-- Horizontal lines -->\n",
       "  <line x1=\"10\" y1=\"0\" x2=\"80\" y2=\"70\" style=\"stroke-width:2\" />\n",
       "  <line x1=\"10\" y1=\"2\" x2=\"80\" y2=\"72\" />\n",
       "  <line x1=\"10\" y1=\"4\" x2=\"80\" y2=\"74\" />\n",
       "  <line x1=\"10\" y1=\"6\" x2=\"80\" y2=\"77\" />\n",
       "  <line x1=\"10\" y1=\"8\" x2=\"80\" y2=\"79\" />\n",
       "  <line x1=\"10\" y1=\"10\" x2=\"80\" y2=\"81\" />\n",
       "  <line x1=\"10\" y1=\"12\" x2=\"80\" y2=\"83\" />\n",
       "  <line x1=\"10\" y1=\"15\" x2=\"80\" y2=\"85\" />\n",
       "  <line x1=\"10\" y1=\"17\" x2=\"80\" y2=\"87\" />\n",
       "  <line x1=\"10\" y1=\"19\" x2=\"80\" y2=\"89\" />\n",
       "  <line x1=\"10\" y1=\"21\" x2=\"80\" y2=\"92\" />\n",
       "  <line x1=\"10\" y1=\"23\" x2=\"80\" y2=\"94\" />\n",
       "  <line x1=\"10\" y1=\"25\" x2=\"80\" y2=\"96\" style=\"stroke-width:2\" />\n",
       "\n",
       "  <!-- Vertical lines -->\n",
       "  <line x1=\"10\" y1=\"0\" x2=\"10\" y2=\"25\" style=\"stroke-width:2\" />\n",
       "  <line x1=\"80\" y1=\"70\" x2=\"80\" y2=\"96\" style=\"stroke-width:2\" />\n",
       "\n",
       "  <!-- Colored Rectangle -->\n",
       "  <polygon points=\"10.0,0.0 80.58823529411765,70.58823529411765 80.58823529411765,96.00085180870013 10.0,25.412616514582485\" style=\"fill:#ECB172A0;stroke-width:0\"/>\n",
       "\n",
       "  <!-- Horizontal lines -->\n",
       "  <line x1=\"10\" y1=\"0\" x2=\"35\" y2=\"0\" style=\"stroke-width:2\" />\n",
       "  <line x1=\"80\" y1=\"70\" x2=\"106\" y2=\"70\" style=\"stroke-width:2\" />\n",
       "\n",
       "  <!-- Vertical lines -->\n",
       "  <line x1=\"10\" y1=\"0\" x2=\"80\" y2=\"70\" style=\"stroke-width:2\" />\n",
       "  <line x1=\"12\" y1=\"0\" x2=\"82\" y2=\"70\" />\n",
       "  <line x1=\"14\" y1=\"0\" x2=\"84\" y2=\"70\" />\n",
       "  <line x1=\"16\" y1=\"0\" x2=\"87\" y2=\"70\" />\n",
       "  <line x1=\"18\" y1=\"0\" x2=\"89\" y2=\"70\" />\n",
       "  <line x1=\"20\" y1=\"0\" x2=\"91\" y2=\"70\" />\n",
       "  <line x1=\"22\" y1=\"0\" x2=\"93\" y2=\"70\" />\n",
       "  <line x1=\"25\" y1=\"0\" x2=\"95\" y2=\"70\" />\n",
       "  <line x1=\"27\" y1=\"0\" x2=\"97\" y2=\"70\" />\n",
       "  <line x1=\"29\" y1=\"0\" x2=\"99\" y2=\"70\" />\n",
       "  <line x1=\"31\" y1=\"0\" x2=\"102\" y2=\"70\" />\n",
       "  <line x1=\"33\" y1=\"0\" x2=\"104\" y2=\"70\" />\n",
       "  <line x1=\"35\" y1=\"0\" x2=\"106\" y2=\"70\" style=\"stroke-width:2\" />\n",
       "\n",
       "  <!-- Colored Rectangle -->\n",
       "  <polygon points=\"10.0,0.0 35.41261651458248,0.0 106.00085180870013,70.58823529411765 80.58823529411765,70.58823529411765\" style=\"fill:#ECB172A0;stroke-width:0\"/>\n",
       "\n",
       "  <!-- Horizontal lines -->\n",
       "  <line x1=\"80\" y1=\"70\" x2=\"106\" y2=\"70\" style=\"stroke-width:2\" />\n",
       "  <line x1=\"80\" y1=\"72\" x2=\"106\" y2=\"72\" />\n",
       "  <line x1=\"80\" y1=\"74\" x2=\"106\" y2=\"74\" />\n",
       "  <line x1=\"80\" y1=\"77\" x2=\"106\" y2=\"77\" />\n",
       "  <line x1=\"80\" y1=\"79\" x2=\"106\" y2=\"79\" />\n",
       "  <line x1=\"80\" y1=\"81\" x2=\"106\" y2=\"81\" />\n",
       "  <line x1=\"80\" y1=\"83\" x2=\"106\" y2=\"83\" />\n",
       "  <line x1=\"80\" y1=\"85\" x2=\"106\" y2=\"85\" />\n",
       "  <line x1=\"80\" y1=\"87\" x2=\"106\" y2=\"87\" />\n",
       "  <line x1=\"80\" y1=\"89\" x2=\"106\" y2=\"89\" />\n",
       "  <line x1=\"80\" y1=\"92\" x2=\"106\" y2=\"92\" />\n",
       "  <line x1=\"80\" y1=\"94\" x2=\"106\" y2=\"94\" />\n",
       "  <line x1=\"80\" y1=\"96\" x2=\"106\" y2=\"96\" style=\"stroke-width:2\" />\n",
       "\n",
       "  <!-- Vertical lines -->\n",
       "  <line x1=\"80\" y1=\"70\" x2=\"80\" y2=\"96\" style=\"stroke-width:2\" />\n",
       "  <line x1=\"82\" y1=\"70\" x2=\"82\" y2=\"96\" />\n",
       "  <line x1=\"84\" y1=\"70\" x2=\"84\" y2=\"96\" />\n",
       "  <line x1=\"87\" y1=\"70\" x2=\"87\" y2=\"96\" />\n",
       "  <line x1=\"89\" y1=\"70\" x2=\"89\" y2=\"96\" />\n",
       "  <line x1=\"91\" y1=\"70\" x2=\"91\" y2=\"96\" />\n",
       "  <line x1=\"93\" y1=\"70\" x2=\"93\" y2=\"96\" />\n",
       "  <line x1=\"95\" y1=\"70\" x2=\"95\" y2=\"96\" />\n",
       "  <line x1=\"97\" y1=\"70\" x2=\"97\" y2=\"96\" />\n",
       "  <line x1=\"99\" y1=\"70\" x2=\"99\" y2=\"96\" />\n",
       "  <line x1=\"102\" y1=\"70\" x2=\"102\" y2=\"96\" />\n",
       "  <line x1=\"104\" y1=\"70\" x2=\"104\" y2=\"96\" />\n",
       "  <line x1=\"106\" y1=\"70\" x2=\"106\" y2=\"96\" style=\"stroke-width:2\" />\n",
       "\n",
       "  <!-- Colored Rectangle -->\n",
       "  <polygon points=\"80.58823529411765,70.58823529411765 106.00085180870013,70.58823529411765 106.00085180870013,96.00085180870013 80.58823529411765,96.00085180870013\" style=\"fill:#ECB172A0;stroke-width:0\"/>\n",
       "\n",
       "  <!-- Text -->\n",
       "  <text x=\"93.294544\" y=\"116.000852\" font-size=\"1.0rem\" font-weight=\"100\" text-anchor=\"middle\" >284</text>\n",
       "  <text x=\"126.000852\" y=\"83.294544\" font-size=\"1.0rem\" font-weight=\"100\" text-anchor=\"middle\" transform=\"rotate(-90,126.000852,83.294544)\">284</text>\n",
       "  <text x=\"35.294118\" y=\"80.706734\" font-size=\"1.0rem\" font-weight=\"100\" text-anchor=\"middle\" transform=\"rotate(45,35.294118,80.706734)\">40785</text>\n",
       "</svg>\n",
       "        </td>\n",
       "    </tr>\n",
       "</table>"
      ],
      "text/plain": [
       "dask.array<rechunk-merge, shape=(40785, 284, 284), dtype=float32, chunksize=(40785, 24, 24), chunktype=numpy.ndarray>"
      ]
     },
     "execution_count": 14,
     "metadata": {},
     "output_type": "execute_result"
    }
   ],
   "source": [
    "# Dask's rechunk documentation: https://docs.dask.org/en/stable/generated/dask.array.rechunk.html\n",
    "\n",
    "# 0:-1 specifies that we want the dataset to be chunked along the 0 dimension, which means that each chunk will have all 40 thousand values in time dimension\n",
    "# 1:'auto', 2:'auto' and balance=True specifies that dask can freely rechunk along the latitude and longitude dimensions to attain blocks that have a uniform size\n",
    "arr = ds['Height'].data.rechunk(\n",
    "    {0:-1, 1:'auto', 2:'auto'}, \n",
    "    block_size_limit=1e8, \n",
    "    balance=True\n",
    ")\n",
    "\n",
    "t,y,x = arr.chunks[0][0], arr.chunks[1][0], arr.chunks[2][0]\n",
    "\n",
    "arr"
   ]
  },
  {
   "cell_type": "code",
   "execution_count": 15,
   "id": "7dfa0de2",
   "metadata": {},
   "outputs": [],
   "source": [
    "# Create an output zarr file and write these chunks to disk\n",
    "shutil.rmtree(zarr_output_path, ignore_errors=False)"
   ]
  },
  {
   "cell_type": "code",
   "execution_count": 19,
   "id": "0c010957",
   "metadata": {},
   "outputs": [
    {
     "name": "stderr",
     "output_type": "stream",
     "text": [
      "/home/ngoc54n/miniconda3/envs/goesenv/lib/python3.11/site-packages/xarray/core/dataset.py:247: UserWarning: The specified Dask chunks separate the stored chunks along dimension \"latitude\" starting at index 24. This could degrade performance. Instead, consider rechunking after loading.\n",
      "  warnings.warn(\n",
      "/home/ngoc54n/miniconda3/envs/goesenv/lib/python3.11/site-packages/xarray/core/dataset.py:247: UserWarning: The specified Dask chunks separate the stored chunks along dimension \"longitude\" starting at index 24. This could degrade performance. Instead, consider rechunking after loading.\n",
      "  warnings.warn(\n"
     ]
    },
    {
     "data": {
      "text/plain": [
       "<xarray.backends.zarr.ZarrStore at 0x7ff94ea1f0d0>"
      ]
     },
     "execution_count": 19,
     "metadata": {},
     "output_type": "execute_result"
    }
   ],
   "source": [
    "ds = xr.open_dataset(\n",
    "    tmp_zarr_output_path,\n",
    "    chunks={'time': t, 'latitude': y, 'longitude':x},\n",
    "    engine='zarr'\n",
    ")\n",
    "\n",
    "ds['Height'].encoding = {'chunks': (t, y, x)}\n",
    "\n",
    "ds.to_zarr(zarr_output_path)"
   ]
  },
  {
   "cell_type": "code",
   "execution_count": 20,
   "id": "dcadc1c1",
   "metadata": {},
   "outputs": [
    {
     "name": "stdout",
     "output_type": "stream",
     "text": [
      "/\n",
      " ├── Height (40785, 284, 284) float32\n",
      " ├── latitude (284,) float64\n",
      " ├── longitude (284,) float64\n",
      " ├── spatial_ref (40785,) int64\n",
      " ├── time (40785,) int64\n",
      " └── time (UTC) (40785,) int64\n",
      "Name               : /Height\n",
      "Type               : zarr.core.Array\n",
      "Data type          : float32\n",
      "Shape              : (40785, 284, 284)\n",
      "Chunk shape        : (40785, 24, 24)\n",
      "Order              : C\n",
      "Read-only          : False\n",
      "Compressor         : Blosc(cname='lz4', clevel=5, shuffle=SHUFFLE, blocksize=0)\n",
      "Store type         : zarr.storage.DirectoryStore\n",
      "No. bytes          : 13158219840 (12.3G)\n",
      "No. bytes stored   : 2228499842 (2.1G)\n",
      "Storage ratio      : 5.9\n",
      "Chunks initialized : 144/144\n",
      "\n"
     ]
    }
   ],
   "source": [
    "# Display \n",
    "source_group = zarr.open(zarr_output_path)\n",
    "source_array = source_group['Height']\n",
    "print(source_group.tree())\n",
    "print(source_array.info)\n",
    "del source_group\n",
    "del source_array"
   ]
  },
  {
   "cell_type": "code",
   "execution_count": null,
   "id": "c2fb41ef",
   "metadata": {},
   "outputs": [],
   "source": []
  }
 ],
 "metadata": {
  "jupytext": {
   "cell_metadata_filter": "-all",
   "main_language": "python",
   "notebook_metadata_filter": "-all"
  },
  "kernelspec": {
   "display_name": "gtsa",
   "language": "python",
   "name": "python3"
  },
  "language_info": {
   "codemirror_mode": {
    "name": "ipython",
    "version": 3
   },
   "file_extension": ".py",
   "mimetype": "text/x-python",
   "name": "python",
   "nbconvert_exporter": "python",
   "pygments_lexer": "ipython3",
   "version": "3.11.4"
  }
 },
 "nbformat": 4,
 "nbformat_minor": 5
}
